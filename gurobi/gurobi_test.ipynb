{
 "cells": [
  {
   "cell_type": "code",
   "execution_count": 1,
   "metadata": {},
   "outputs": [],
   "source": [
    "import gurobipy as gp\n",
    "from gurobipy import GRB\n",
    "import tomllib as tml\n",
    "import numpy as np"
   ]
  },
  {
   "cell_type": "markdown",
   "metadata": {},
   "source": [
    "Options looks like:\n",
    "```\n",
    "options = {\n",
    "    \"WLSACCESSID\": \"********-****-****-****-************\",\n",
    "    \"WLSSECRET\": \"********-****-****-****-************\",\n",
    "    \"LICENSEID\": _____,\n",
    "}\n",
    "```"
   ]
  },
  {
   "cell_type": "code",
   "execution_count": 2,
   "metadata": {},
   "outputs": [],
   "source": [
    "# get gurobi credentials\n",
    "options = tml.load(open(\"license.toml\", \"rb\"))"
   ]
  },
  {
   "cell_type": "code",
   "execution_count": 3,
   "metadata": {},
   "outputs": [
    {
     "name": "stdout",
     "output_type": "stream",
     "text": [
      "Set parameter WLSAccessID\n",
      "Set parameter WLSSecret\n",
      "Set parameter LicenseID to value 2527858\n",
      "Academic license 2527858 - for non-commercial use only - registered to mb___@ur.rochester.edu\n"
     ]
    }
   ],
   "source": [
    "# establish env (must close)\n",
    "env = gp.Env(params=options)"
   ]
  },
  {
   "cell_type": "markdown",
   "metadata": {},
   "source": [
    "## Test with MPS File\n",
    "I made a MPS file by solving LP.mod (written by Quan Luu) with GLPK for Windows."
   ]
  },
  {
   "cell_type": "code",
   "execution_count": 4,
   "metadata": {},
   "outputs": [
    {
     "name": "stdout",
     "output_type": "stream",
     "text": [
      "Read MPS format model from file model.mps\n",
      "Reading time = 0.01 seconds\n",
      "LP: 757 rows, 729 columns, 2160 nonzeros\n",
      "Discarded solution information\n",
      "Gurobi Optimizer version 11.0.2 build v11.0.2rc0 (win64 - Windows 10.0 (19045.2))\n",
      "\n",
      "CPU model: 11th Gen Intel(R) Core(TM) i7-1165G7 @ 2.80GHz, instruction set [SSE2|AVX|AVX2|AVX512]\n",
      "Thread count: 4 physical cores, 8 logical processors, using up to 8 threads\n",
      "\n",
      "Academic license 2527858 - for non-commercial use only - registered to mb___@ur.rochester.edu\n",
      "Optimize a model with 757 rows, 729 columns and 2160 nonzeros\n",
      "Model fingerprint: 0xcc557f7f\n",
      "Variable types: 0 continuous, 729 integer (0 binary)\n",
      "Coefficient statistics:\n",
      "  Matrix range     [1e+00, 1e+00]\n",
      "  Objective range  [7e-03, 1e-01]\n",
      "  Bounds range     [1e+00, 1e+00]\n",
      "  RHS range        [1e+00, 6e+00]\n",
      "Found heuristic solution: objective -0.0927000\n",
      "Presolve removed 27 rows and 0 columns\n",
      "Presolve time: 0.01s\n",
      "Presolved: 730 rows, 729 columns, 2160 nonzeros\n",
      "Variable types: 0 continuous, 729 integer (729 binary)\n",
      "Found heuristic solution: objective -0.5618500\n",
      "\n",
      "Root relaxation: objective -9.707000e-01, 228 iterations, 0.00 seconds (0.00 work units)\n",
      "\n",
      "    Nodes    |    Current Node    |     Objective Bounds      |     Work\n",
      " Expl Unexpl |  Obj  Depth IntInf | Incumbent    BestBd   Gap | It/Node Time\n",
      "\n",
      "*    0     0               0      -0.9707000   -0.97070  0.00%     -    0s\n",
      "\n",
      "Explored 1 nodes (228 simplex iterations) in 0.04 seconds (0.01 work units)\n",
      "Thread count was 8 (of 8 available processors)\n",
      "\n",
      "Solution count 3: -0.9707 -0.56185 -0.0927 \n",
      "\n",
      "Optimal solution found (tolerance 1.00e-04)\n",
      "Best objective -9.707000000000e-01, best bound -9.707000000000e-01, gap 0.0000%\n"
     ]
    }
   ],
   "source": [
    "m = gp.read(\"model.mps\", env=env)\n",
    "m.reset()\n",
    "m.optimize()"
   ]
  },
  {
   "cell_type": "markdown",
   "metadata": {},
   "source": [
    "I'm not sure this tells us much. Check `glpk_out.txt`, it has the full output of this solution. \n",
    "Notable slice:\n",
    "```\n",
    "730 rows, 729 columns, 2160 non-zeros\n",
    "      0: obj =  -4.657500000e-01 inf =   1.000e+01 (2)\n",
    "      5: obj =  -1.523000000e-01 inf =   0.000e+00 (0)\n",
    "*   224: obj =   6.790500000e-01 inf =   2.065e-14 (0) 1\n",
    "OPTIMAL LP SOLUTION FOUND\n",
    "Integer optimization begins...\n",
    "Long-step dual simplex will be used\n",
    "+   224: mip =     not found yet <=              +inf        (1; 0)\n",
    "+   224: >>>>>   6.790500000e-01 <=   6.790500000e-01   0.0% (1; 0)\n",
    "+   224: mip =   6.790500000e-01 <=     tree is empty   0.0% (0; 1)\n",
    "INTEGER OPTIMAL SOLUTION FOUND\n",
    "Time used:   0.0 secs\n",
    "Memory used: 1.9 Mb (1980226 bytes)\n",
    "STATES:\n",
    "[1 2 3]   [10 11 12]   [19 20 21]\n",
    "[4 5 6] , [13 14 15] , [22 23 24].\n",
    "[7 8 9]   [16 17 18]   [25 26 27]\n",
    "\n",
    "BUCKETS:\n",
    "Bucket 5: 1 2 3 4 5 6 7 8 9\n",
    "Bucket 11: 11 12 19 21\n",
    "Bucket 13: 10 13\n",
    "Bucket 14: 14 15\n",
    "Bucket 17: 16 17 18 25 26 27\n",
    "Bucket 23: 20 22 23 24\n",
    "```"
   ]
  },
  {
   "cell_type": "markdown",
   "metadata": {},
   "source": [
    "## Problem Setup\n",
    "I'm going to try and convert this outright to a Gurobi model."
   ]
  },
  {
   "cell_type": "code",
   "execution_count": 5,
   "metadata": {},
   "outputs": [],
   "source": [
    "# establish model (must close)\n",
    "model = gp.Model(env=env)\n"
   ]
  },
  {
   "cell_type": "markdown",
   "metadata": {},
   "source": [
    "Generating the probability matrix."
   ]
  },
  {
   "cell_type": "code",
   "execution_count": 6,
   "metadata": {},
   "outputs": [],
   "source": [
    "def normpdf(x: float, mean: float, std: float) -> float:\n",
    "  var = float(std)**2\n",
    "  denom = (2*np.pi*var)**.5\n",
    "  num = np.exp(-(float(x)-float(mean))**2/(2*var))\n",
    "  return num/denom\n",
    "\n",
    "def gen_state_prob(num_traits: int, num_states: int):\n",
    "  mean = (num_states-1) / 2\n",
    "  std = mean / 1.25\n",
    "\n",
    "  state_prob = np.zeros(tuple([num_states] * num_traits), dtype=np.float64)\n",
    "  for inds in np.ndindex(state_prob.shape):\n",
    "    prob = 1\n",
    "    for ind in inds:\n",
    "      prob *= normpdf(ind, mean, std)\n",
    "    \n",
    "    state_prob[inds] = prob\n",
    "\n",
    "  state_prob = state_prob / np.sum(state_prob)\n",
    "\n",
    "  return state_prob.flatten()"
   ]
  },
  {
   "cell_type": "markdown",
   "metadata": {},
   "source": [
    "Generating the reward matrix."
   ]
  },
  {
   "cell_type": "code",
   "execution_count": 7,
   "metadata": {},
   "outputs": [],
   "source": [
    "def unnumerize(num_traits: int, num_states: int, action: int):\n",
    "  ufaction = []\n",
    "  while action > 0:\n",
    "    ufaction.insert(0, action % num_states)\n",
    "    action = action // num_states\n",
    "\n",
    "  while len(ufaction) < num_traits:\n",
    "    ufaction.insert(0, 0)\n",
    "\n",
    "  return ufaction\n",
    "\n",
    "def reward_fn(param: tuple[float, float], state, action):\n",
    "  \n",
    "  l1dist = 0\n",
    "  for s, a in zip(state, action):\n",
    "    l1dist += abs(s - a)\n",
    "\n",
    "  return param[0] - param[1] * l1dist\n",
    "\n",
    "def reward_matrix(num_traits: int, num_states: int, reward_param: tuple[float, float]):\n",
    "  total_states = num_states**num_traits\n",
    "  res = np.array([[0 for _ in range(total_states)] for _ in range(total_states)], dtype=np.float64)\n",
    "  for x in range(total_states):\n",
    "    for y in range(total_states):\n",
    "      s1 = unnumerize(num_traits, num_states, x)\n",
    "      s2 = unnumerize(num_traits, num_states, y)\n",
    "\n",
    "      res[x, y] = reward_fn(reward_param, s1, s2)\n",
    "\n",
    "  return res"
   ]
  },
  {
   "cell_type": "markdown",
   "metadata": {},
   "source": [
    "Generating the adjacency matrix"
   ]
  },
  {
   "cell_type": "code",
   "execution_count": 8,
   "metadata": {},
   "outputs": [],
   "source": [
    "def is_adj(num_traits: int, num_states: int, i: int, j: int):\n",
    "  s1 = unnumerize(num_traits, num_states, i)\n",
    "  s2 = unnumerize(num_traits, num_states, j)\n",
    "\n",
    "  l1dist = 0\n",
    "  for s, a in zip(s1, s2):\n",
    "    l1dist += abs(s - a)\n",
    "\n",
    "  return l1dist == 1\n",
    "\n",
    "def adj_matrix(num_traits: int, num_states: int):\n",
    "  total_states = num_states**num_traits\n",
    "  res = np.array([[0 for _ in range(total_states)] for _ in range(total_states)])\n",
    "  for x in range(total_states):\n",
    "    for y in range(total_states):\n",
    "      res[x, y] = 1 if is_adj(num_traits, num_states, x, y) else 0\n",
    "\n",
    "  return res"
   ]
  },
  {
   "cell_type": "code",
   "execution_count": 9,
   "metadata": {},
   "outputs": [
    {
     "name": "stdout",
     "output_type": "stream",
     "text": [
      "[0.01365094 0.02981639 0.01365094 0.02981639 0.06512498 0.02981639\n",
      " 0.01365094 0.02981639 0.01365094 0.02981639 0.06512498 0.02981639\n",
      " 0.06512498 0.14224602 0.06512498 0.02981639 0.06512498 0.02981639\n",
      " 0.01365094 0.02981639 0.01365094 0.02981639 0.06512498 0.02981639\n",
      " 0.01365094 0.02981639 0.01365094]\n"
     ]
    }
   ],
   "source": [
    "# parameters\n",
    "t = 3\n",
    "n_per_t = 3\n",
    "n = n_per_t**t\n",
    "k = 6\n",
    "reward_param = (1, 0.5)\n",
    "\n",
    "V = np.asarray([i for i in range(n)])\n",
    "\n",
    "state_prob = gen_state_prob(t, n_per_t)\n",
    "print(state_prob)\n",
    "\n",
    "reward = reward_matrix(t, n_per_t, reward_param)\n",
    "\n",
    "adj = adj_matrix(t, n_per_t)"
   ]
  },
  {
   "cell_type": "code",
   "execution_count": 10,
   "metadata": {},
   "outputs": [],
   "source": [
    "# Create Hess Variables\n",
    "# GPL: var x{V, V} >= 0, <= 1, binary;\n",
    "x = model.addVars(V, V, ub=1, vtype=GRB.BINARY)"
   ]
  },
  {
   "cell_type": "code",
   "execution_count": 11,
   "metadata": {},
   "outputs": [],
   "source": [
    "# state objective\n",
    "# GPL: maximize EP: sum{i in V} PROB[i] * sum{j in V} x[i, j] * REWARD[i, j];\n",
    "# gp.quicksum( prob[i] * x[i][j] * reward[i][j] for i in V for j in V )\n",
    "objective = gp.quicksum( gp.quicksum( (state_prob[i] * x[i,j] * reward[i][j]) for j in V) for i in V )\n",
    "model.setObjective(objective, GRB.MAXIMIZE)"
   ]
  },
  {
   "cell_type": "code",
   "execution_count": 12,
   "metadata": {},
   "outputs": [
    {
     "name": "stdout",
     "output_type": "stream",
     "text": [
      "Set parameter PoolSolutions to value 100000\n",
      "Set parameter PoolSearchMode to value 2\n"
     ]
    }
   ],
   "source": [
    "# add constraints\n",
    "\n",
    "# /* there are exactly k buckets */\n",
    "# kBucketConstr: sum{j in V} x[j, j] = k;\n",
    "k_bucket = gp.quicksum( (x[j,j]) for j in V ) == k\n",
    "model.addConstr(k_bucket)\n",
    "\n",
    "# /* a state can only belong to one bucket */\n",
    "# uniqueBucketConstr{i in V}: sum{j in V} x[i, j] = 1;\n",
    "unique_bucket = ( gp.quicksum( (x[i,j]) for j in V ) == 1 for i in V )\n",
    "model.addConstrs(unique_bucket)\n",
    "\n",
    "# /* a state cannot belong to a non-existant bucket */\n",
    "# nonexBucketConstr{i in V, j in V}: x[i, j] <= x[j, j];\n",
    "nonex_bucket = ( (x[i,j] <= x[j,j]) for i in V for j in V )\n",
    "model.addConstrs(nonex_bucket)\n",
    "\n",
    "# /* a state has to be adjacent to at least one other state in the bucket */\n",
    "# contiguousBucketConstr{i in V, j in V}: \n",
    "#   sum{l in V} x[i, j] * x[l, j] * ADJ[i, l] >= x[i, j];\n",
    "contiguous_bucket = ( gp.quicksum( (x[i, j] * x[l, j] * adj[i, l]) for l in V ) >= x[i, j] for i in V for j in V )\n",
    "model.addConstrs(contiguous_bucket)\n",
    "\n",
    "# multiple solutions\n",
    "model.Params.PoolSolutions = 100000\n",
    "model.Params.PoolSearchMode = 2\n",
    "\n",
    "model.update()"
   ]
  },
  {
   "cell_type": "code",
   "execution_count": 13,
   "metadata": {},
   "outputs": [
    {
     "name": "stdout",
     "output_type": "stream",
     "text": [
      "Gurobi Optimizer version 11.0.2 build v11.0.2rc0 (win64 - Windows 10.0 (19045.2))\n",
      "\n",
      "CPU model: 11th Gen Intel(R) Core(TM) i7-1165G7 @ 2.80GHz, instruction set [SSE2|AVX|AVX2|AVX512]\n",
      "Thread count: 4 physical cores, 8 logical processors, using up to 8 threads\n",
      "\n",
      "Academic license 2527858 - for non-commercial use only - registered to mb___@ur.rochester.edu\n",
      "Optimize a model with 757 rows, 729 columns and 2160 nonzeros\n",
      "Model fingerprint: 0x0c1041dc\n",
      "Model has 729 quadratic constraints\n",
      "Variable types: 0 continuous, 729 integer (729 binary)\n",
      "Coefficient statistics:\n",
      "  Matrix range     [1e+00, 1e+00]\n",
      "  QMatrix range    [1e+00, 1e+00]\n",
      "  QLMatrix range   [1e+00, 1e+00]\n",
      "  Objective range  [7e-03, 1e-01]\n",
      "  Bounds range     [1e+00, 1e+00]\n",
      "  RHS range        [1e+00, 6e+00]\n",
      "Presolve added 594 rows and 0 columns\n",
      "Presolve time: 0.02s\n",
      "Presolved: 1351 rows, 729 columns, 5247 nonzeros\n",
      "Variable types: 0 continuous, 729 integer (729 binary)\n",
      "Found heuristic solution: objective -0.4694164\n",
      "\n",
      "Root relaxation: objective 6.793317e-01, 84 iterations, 0.00 seconds (0.00 work units)\n",
      "\n",
      "    Nodes    |    Current Node    |     Objective Bounds      |     Work\n",
      " Expl Unexpl |  Obj  Depth IntInf | Incumbent    BestBd   Gap | It/Node Time\n",
      "\n",
      "*    0     0               0       0.6793317    0.67933  0.00%     -    0s\n",
      "\n",
      "Optimal solution found at node 0 - now completing solution pool...\n",
      "\n",
      "    Nodes    |    Current Node    |      Pool Obj. Bounds     |     Work\n",
      "             |                    |   Worst                   |\n",
      " Expl Unexpl |  Obj  Depth IntInf | Incumbent    BestBd   Gap | It/Node Time\n",
      "\n",
      "     0     0          -    0               -    0.67933      -     -    0s\n",
      "     0     0          -    0               -    0.67933      -     -    0s\n",
      "     0     2          -    0               -    0.67933      -     -    0s\n",
      " 29795 19679          -   67               -    0.67933      -   0.7    5s\n",
      " 50530 30576     cutoff   74               -    0.67933      -   0.6   10s\n",
      " 65620 37102          -   67               -    0.67933      -   0.6   15s\n",
      " 77464 43878          -   58               -    0.67933      -   0.5   20s\n",
      " 88673 50183          -   75               -    0.67933      -   0.5   25s\n",
      " 98679 55372          -   71               -    0.67933      -   0.5   31s\n",
      " 106068 57778          -   67               -    0.67933      -   0.5   35s\n",
      " 113753 59993          -   73               -    0.67933      -   0.5   40s\n",
      " 121482 63726     cutoff   71               -    0.67933      -   0.5   45s\n",
      " 128384 67469          -   69               -    0.67933      -   0.5   50s\n",
      " 134455 70934          -   68               -    0.67933      -   0.5   55s\n",
      " 141937 74820     cutoff   76               -    0.67933      -   0.5   61s\n",
      " 148980 77141     cutoff   75               -    0.67933      -   0.5   66s\n",
      " 153251 78965     cutoff   71               -    0.67933      -   0.5   70s\n",
      " 160328 80569          -   79               -    0.67933      -   0.5   76s\n",
      " 163998 83191          -   72               -    0.67933      -   0.5   80s\n",
      " 168680 85039          -   73               -    0.67933      -   0.5   85s\n",
      " 173673 86771          -   69               -    0.67933      -   0.5   90s\n",
      " 180279 89892          -   61               -    0.67933      -   0.5   96s\n",
      " 184197 90480          -   70               -    0.67933      -   0.5  100s\n",
      " 189458 92238          -   68               -    0.67933      -   0.5  106s\n",
      " 193702 95285          -   71               -    0.67933      -   0.5  111s\n",
      " 197114 95285          -   68               -    0.67933      -   0.5  115s\n",
      " 201677 94443          -   73         0.46756    0.67933  45.3%   0.5  122s\n",
      " 203045 94134          -   74         0.50466    0.67933  34.6%   0.5  125s\n",
      " 206607 91879          -   63         0.54893    0.67933  23.8%   0.5  130s\n",
      " 210772 86195          -   74         0.57066    0.67933  19.0%   0.5  135s\n",
      " 215163 87029     cutoff   74         0.57875    0.67933  17.4%   0.5  140s\n",
      " 219332 81378          -   68         0.59240    0.67933  14.7%   0.5  145s\n",
      " 222993 83087     cutoff   75         0.59240    0.67933  14.7%   0.5  150s\n",
      " 228672 79374          -   75         0.60605    0.67933  12.1%   0.5  157s\n",
      " 232877 68522          -   68         0.61413    0.67933  10.6%   0.5  162s\n",
      " 236381 68522          -   70         0.61413    0.67933  10.6%   0.5  166s\n",
      " 238976 70137          -   74         0.61413    0.67933  10.6%   0.5  170s\n",
      " 246387 69185          -   70         0.62221    0.67933  9.18%   0.5  178s\n",
      " 247882 69185          -   67         0.62221    0.67933  9.18%   0.5  180s\n",
      " 252999 65574          -   57         0.62778    0.67933  8.21%   0.5  186s\n",
      " 255653 66923          -   68         0.62778    0.67933  8.21%   0.5  190s\n",
      " 261144 45858          -   67         0.63586    0.67933  6.84%   0.5  195s\n",
      " 266562 47143          -   63         0.63586    0.67933  6.84%   0.5  200s\n",
      " 272089 47935          -   65         0.63586    0.67933  6.84%   0.4  205s\n",
      " 277465 49293          -   68         0.63586    0.67933  6.84%   0.4  210s\n",
      " 284117 50547          -   68         0.63586    0.67933  6.84%   0.4  215s\n",
      " 288597 51533          -   66         0.63586    0.67933  6.84%   0.4  220s\n",
      " 294250 52301     cutoff   71         0.63586    0.67933  6.84%   0.4  225s\n",
      " 299257 53657          -   69         0.63586    0.67933  6.84%   0.4  230s\n",
      " 304184 54475          -   79         0.63586    0.67933  6.84%   0.4  235s\n",
      " 310577 55470          -   75         0.63586    0.67933  6.84%   0.4  240s\n",
      " 317355 56277          -   68         0.63586    0.67933  6.84%   0.4  246s\n",
      " 321846 57247          -   68         0.63586    0.67933  6.84%   0.4  250s\n",
      " 327111 58084          -   71         0.63586    0.67933  6.84%   0.4  255s\n",
      " 332871 59357          -   66         0.63586    0.67933  6.84%   0.4  260s\n",
      " 337834 60628          -   72         0.63586    0.67933  6.84%   0.4  265s\n",
      " 343990 61389          -   77         0.63586    0.67933  6.84%   0.4  270s\n",
      " 349446 62389          -   66         0.63586    0.67933  6.84%   0.4  275s\n",
      " 354771 64036          -   67         0.63586    0.67933  6.84%   0.4  280s\n",
      " 359970 58491     cutoff   69         0.64269    0.67933  5.70%   0.4  285s\n",
      " 367179 47848          -   72         0.64952    0.67933  4.59%   0.4  291s\n",
      " 372019 48820     cutoff   72         0.64952    0.67933  4.59%   0.4  295s\n",
      " 379532 49772     cutoff   66         0.64952    0.67933  4.59%   0.4  301s\n",
      " 384321 50423          -   70         0.64952    0.67933  4.59%   0.4  305s\n",
      " 391942 51492          -   63         0.64952    0.67933  4.59%   0.4  311s\n",
      " 398672 51811          -   72         0.64952    0.67933  4.59%   0.4  316s\n",
      " 404488 53000     cutoff   70         0.64952    0.67933  4.59%   0.4  321s\n",
      " 409403 53710          -   63         0.64952    0.67933  4.59%   0.4  325s\n",
      " 416554 54669     cutoff   67         0.64952    0.67933  4.59%   0.4  331s\n",
      " 421942 56074     cutoff   76         0.64952    0.67933  4.59%   0.4  335s\n",
      " 427255 56596          -   66         0.64952    0.67933  4.59%   0.4  340s\n",
      " 434507  9241     cutoff   77         0.65760    0.67933  3.31%   0.4  345s\n",
      " 442148  9366          -   67         0.65760    0.67933  3.31%   0.4  350s\n",
      " 448363  9476          -   67         0.65760    0.67933  3.31%   0.4  355s\n",
      " 454596  9490          -   66         0.65760    0.67933  3.31%   0.4  360s\n",
      " 462249  9627          -   74         0.65760    0.67933  3.31%   0.4  366s\n",
      " 467386  9916     cutoff   69         0.65760    0.67933  3.31%   0.4  370s\n",
      " 474294  9992          -   70         0.65760    0.67933  3.31%   0.4  375s\n",
      " 480300 10208     cutoff   70         0.65760    0.67933  3.31%   0.4  380s\n",
      " 487166 10282          -   71         0.65760    0.67933  3.31%   0.4  385s\n",
      " 494043 10307     cutoff   70         0.65760    0.67933  3.31%   0.4  390s\n",
      " 501572 10372     cutoff   66         0.65760    0.67933  3.31%   0.4  395s\n",
      " 507065 10511     cutoff   68         0.65760    0.67933  3.31%   0.4  400s\n",
      " 513671 10591     cutoff   69         0.65760    0.67933  3.31%   0.4  405s\n",
      " 521121 10661     cutoff   75         0.65760    0.67933  3.31%   0.4  410s\n",
      " 529018 10740          -   69         0.65760    0.67933  3.31%   0.4  416s\n",
      " 534689 10769          -   66         0.65760    0.67933  3.31%   0.4  420s\n",
      " 540609   704     cutoff   73         0.66442    0.67933  2.24%   0.4  425s\n",
      " 546878   667          -   72         0.66442    0.67933  2.24%   0.4  430s\n",
      " 552647   626     cutoff   69         0.66442    0.67933  2.24%   0.4  435s\n",
      " 560487   514          -   46         0.66442    0.67933  2.24%   0.4  440s\n",
      "\n",
      "Explored 570015 nodes (231584 simplex iterations) in 445.21 seconds (54.06 work units)\n",
      "Thread count was 8 (of 8 available processors)\n",
      "\n",
      "Solution count 100000: 0.679332 0.679332 0.679332 ... 0.679332\n",
      "No other solutions better than 0.679332\n",
      "\n",
      "Optimal solution found (tolerance 1.00e-04)\n",
      "Best objective 6.793317039129e-01, best bound 6.793317039129e-01, gap 0.0000%\n"
     ]
    }
   ],
   "source": [
    "# can we solve?\n",
    "model.optimize()"
   ]
  },
  {
   "cell_type": "markdown",
   "metadata": {},
   "source": [
    "### Solution Extraction\n",
    "This was a little easier than I thought, thanks to Quan's code."
   ]
  },
  {
   "cell_type": "code",
   "execution_count": 14,
   "metadata": {},
   "outputs": [
    {
     "name": "stdout",
     "output_type": "stream",
     "text": [
      "Bucket 5: 3 4 5 6 7 9 \n",
      "Bucket 11: 1 2 11 19 20 21 \n",
      "Bucket 13: 10 13 22 25 \n",
      "Bucket 14: 14 23 \n",
      "Bucket 15: 12 15 24 27 \n",
      "Bucket 17: 8 16 17 18 26 \n"
     ]
    }
   ],
   "source": [
    "centers = [j for j in V if x[j,j].getAttr(\"x\") == 1]\n",
    "\n",
    "for j in centers:\n",
    "    print(f\"Bucket {j+1}: \", end=\"\")\n",
    "    members = [i for i in V if x[i,j].getAttr(\"x\") == 1]\n",
    "    for i in members:\n",
    "        print(f\"{i+1} \", end=\"\")\n",
    "    print()\n"
   ]
  },
  {
   "cell_type": "markdown",
   "metadata": {},
   "source": [
    "```\n",
    "STATES:\n",
    "[1 2 3]   [10 11 12]   [19 20 21]\n",
    "[4 5 6] , [13 14 15] , [22 23 24].\n",
    "[7 8 9]   [16 17 18]   [25 26 27]\n",
    "\n",
    "BUCKETS:\n",
    "Bucket 5: 1 2 3 4 5 6 7 8 9\n",
    "Bucket 11: 11 12 19 21\n",
    "Bucket 13: 10 13\n",
    "Bucket 14: 14 15\n",
    "Bucket 17: 16 17 18 25 26 27\n",
    "Bucket 23: 20 22 23 24\n",
    "```\n",
    "\n",
    "GLPK Output again for comparison."
   ]
  },
  {
   "cell_type": "markdown",
   "metadata": {},
   "source": [
    "Convert strategy to calculate information content measure."
   ]
  },
  {
   "cell_type": "code",
   "execution_count": 15,
   "metadata": {},
   "outputs": [],
   "source": [
    "def convert(num_traits, num_states, num_signals, strat):\n",
    "  total_states = num_states**num_traits\n",
    "  small_val = 1e-7\n",
    "  large_val = 1 - (small_val * (num_signals-1))\n",
    "\n",
    "  signal_strat = np.full((num_signals, total_states), small_val, dtype=np.float64)\n",
    "\n",
    "  for i, bucket in enumerate(strat):\n",
    "    for state in bucket:\n",
    "      signal_strat[i, state] = large_val\n",
    "\n",
    "  return signal_strat\n",
    "\n",
    "def info_measure(num_traits, num_states, num_signals, signal_prob, weighted=True) -> float:\n",
    "    \"\"\"Calculates the information content of the signals\n",
    "\n",
    "    Args:\n",
    "      signal_prob (np.ndarray): the probabilities of the signals\n",
    "      weighted (boolean): weighted/unweighted options\n",
    "\n",
    "    Returns:\n",
    "      inf (float): total information content measure\n",
    "      inf_sigs (list): information content by signal\n",
    "      inf_states (list): information content by state\n",
    "    \"\"\"\n",
    "    total_states = num_states**num_traits\n",
    "    signal_prob = signal_prob.reshape(num_signals, total_states)\n",
    "\n",
    "    prob = np.zeros_like(signal_prob)\n",
    "    for i in range(num_signals):\n",
    "      for j in range(total_states):\n",
    "        prob[i, j] = signal_prob[i, j] * state_prob[j]\n",
    "    prob_sig = [np.sum(prob[i]) for i in range(num_signals)]\n",
    "    prob = (prob.T / np.sum(prob, axis=1)).T\n",
    "\n",
    "    inf = 0\n",
    "    inf_sigs = []\n",
    "    inf_states = []\n",
    "    for i in range(num_signals):\n",
    "      inf_sig = 0\n",
    "      inf_states.append([])\n",
    "      for j in range(total_states):\n",
    "        inf_state = prob[i, j] * np.log(prob[i, j]/state_prob[j])\n",
    "        inf_sig += inf_state\n",
    "        \n",
    "        if weighted:\n",
    "          inf_state = prob_sig[i] * inf_state\n",
    "\n",
    "        inf_states[i].append(inf_state)\n",
    "\n",
    "      if weighted:\n",
    "        inf_sig = prob_sig[i] * inf_sig\n",
    "\n",
    "      inf_sigs.append(inf_sig)\n",
    "      inf += inf_sig\n",
    "\n",
    "    new_size = [num_signals]\n",
    "    new_size.extend([num_states] * num_traits)\n",
    "    inf_states = np.resize(np.array(inf_states), tuple(new_size))\n",
    "\n",
    "    return inf, inf_sigs, inf_states\n",
    "\n",
    "def stats(inf, inf_sigstates):\n",
    "  inf_states = np.sum(inf_sigstates, axis=0)\n",
    "\n",
    "  print(f\"Info measure = {inf}\")\n",
    "  print(f\"Info measure by states:\")\n",
    "\n",
    "  for t1 in inf_states:\n",
    "    for t2 in t1:\n",
    "      for t3 in t2:\n",
    "        print(f\"{t3:.3f}\", end=\" \")\n",
    "      print()\n",
    "    print()"
   ]
  },
  {
   "cell_type": "markdown",
   "metadata": {},
   "source": [
    "Calculating the average information content measure of all n results"
   ]
  },
  {
   "cell_type": "code",
   "execution_count": 16,
   "metadata": {},
   "outputs": [
    {
     "name": "stdout",
     "output_type": "stream",
     "text": [
      "Number of solutions: 100000\n",
      "UNWEIGHTED\n",
      "Info measure = 10.885003496752763\n",
      "Info measure by states:\n",
      "0.144 0.306 0.153 \n",
      "0.343 0.785 0.359 \n",
      "0.144 0.306 0.153 \n",
      "\n",
      "0.343 0.787 0.361 \n",
      "0.935 1.079 0.496 \n",
      "0.342 0.790 0.361 \n",
      "\n",
      "0.144 0.306 0.153 \n",
      "0.343 0.787 0.360 \n",
      "0.144 0.307 0.154 \n",
      "\n",
      "\n",
      "WEIGHTED\n",
      "Info measure = 1.7704267938349418\n",
      "Info measure by states:\n",
      "0.024 0.052 0.025 \n",
      "0.054 0.120 0.055 \n",
      "0.024 0.052 0.025 \n",
      "\n",
      "0.054 0.120 0.055 \n",
      "0.127 0.224 0.103 \n",
      "0.054 0.120 0.055 \n",
      "\n",
      "0.024 0.052 0.025 \n",
      "0.054 0.120 0.055 \n",
      "0.024 0.052 0.025 \n",
      "\n"
     ]
    }
   ],
   "source": [
    "# n solutions\n",
    "n_solutions = model.getAttr(\"SolCount\")\n",
    "print(f\"Number of solutions: {n_solutions}\")\n",
    "\n",
    "new_size = [k]\n",
    "new_size.extend([n_per_t] * t)\n",
    "\n",
    "total_info = 0\n",
    "total_info_sigstates = np.zeros(tuple(new_size))\n",
    "total_w_info = 0\n",
    "total_w_info_sigstates = np.zeros(tuple(new_size))\n",
    "\n",
    "for n in range(0, n_solutions):\n",
    "    model.params.SolutionNumber = n\n",
    "    # print(f\"Solution {n}\")\n",
    "    centers = [j for j in V if x[j,j].getAttr(\"Xn\") == 1]\n",
    "    strat = []\n",
    "    for j in centers:\n",
    "        # print(f\"Bucket {j+1}: \", end=\"\")\n",
    "        members = [i for i in V if x[i,j].getAttr(\"Xn\") == 1]\n",
    "        #     for i in members:\n",
    "        #         print(f\"{i+1} \", end=\"\")\n",
    "        #     print()\n",
    "        # print()\n",
    "        strat.append(members)\n",
    "\n",
    "    converted_strat = convert(t, n_per_t, k, strat)\n",
    "        \n",
    "    inf, inf_sigs, inf_sigstates = info_measure(t, n_per_t, k, converted_strat, False)\n",
    "\n",
    "    w_inf, w_inf_sigs, w_inf_sigstates = info_measure(t, n_per_t, k, converted_strat)\n",
    "\n",
    "    total_info += inf\n",
    "    total_info_sigstates += inf_sigstates\n",
    "\n",
    "    total_w_info += w_inf\n",
    "    total_w_info_sigstates += w_inf_sigstates\n",
    "    \n",
    "avg_info = total_info / n_solutions\n",
    "avg_info_sigstates = total_info_sigstates / n_solutions\n",
    "avg_w_info = total_w_info / n_solutions\n",
    "avg_w_info_sigstates = total_w_info_sigstates / n_solutions\n",
    "\n",
    "print(\"UNWEIGHTED\")\n",
    "stats(avg_info, avg_info_sigstates)\n",
    "print()\n",
    "print(\"WEIGHTED\")\n",
    "stats(avg_w_info, avg_w_info_sigstates)"
   ]
  },
  {
   "cell_type": "code",
   "execution_count": 17,
   "metadata": {},
   "outputs": [],
   "source": [
    "# closing these objects for best practice\n",
    "\n",
    "model.close()\n",
    "m.close()\n",
    "env.close()"
   ]
  }
 ],
 "metadata": {
  "kernelspec": {
   "display_name": "sig",
   "language": "python",
   "name": "python3"
  },
  "language_info": {
   "codemirror_mode": {
    "name": "ipython",
    "version": 3
   },
   "file_extension": ".py",
   "mimetype": "text/x-python",
   "name": "python",
   "nbconvert_exporter": "python",
   "pygments_lexer": "ipython3",
   "version": "3.12.4"
  }
 },
 "nbformat": 4,
 "nbformat_minor": 2
}
