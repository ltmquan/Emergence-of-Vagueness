{
 "cells": [
  {
   "cell_type": "code",
   "execution_count": 196,
   "metadata": {},
   "outputs": [],
   "source": [
    "import gurobipy as gp\n",
    "from gurobipy import GRB\n",
    "import tomllib as tml\n",
    "import numpy as np"
   ]
  },
  {
   "cell_type": "markdown",
   "metadata": {},
   "source": [
    "Options looks like:\n",
    "```\n",
    "options = {\n",
    "    \"WLSACCESSID\": \"********-****-****-****-************\",\n",
    "    \"WLSSECRET\": \"********-****-****-****-************\",\n",
    "    \"LICENSEID\": _____,\n",
    "}\n",
    "```"
   ]
  },
  {
   "cell_type": "code",
   "execution_count": 197,
   "metadata": {},
   "outputs": [],
   "source": [
    "# get gurobi credentials\n",
    "options = tml.load(open(\"license.toml\", \"rb\"))"
   ]
  },
  {
   "cell_type": "code",
   "execution_count": 198,
   "metadata": {},
   "outputs": [
    {
     "name": "stdout",
     "output_type": "stream",
     "text": [
      "Set parameter WLSAccessID\n",
      "Set parameter WLSSecret\n",
      "Set parameter LicenseID to value 2527858\n",
      "Academic license 2527858 - for non-commercial use only - registered to mb___@ur.rochester.edu\n"
     ]
    }
   ],
   "source": [
    "# establish env (must close)\n",
    "env = gp.Env(params=options)"
   ]
  },
  {
   "cell_type": "markdown",
   "metadata": {},
   "source": [
    "## Test with MPS File\n",
    "I made a MPS file by solving LP.mod (written by Quan Luu) with GLPK for Windows."
   ]
  },
  {
   "cell_type": "code",
   "execution_count": 199,
   "metadata": {},
   "outputs": [
    {
     "name": "stdout",
     "output_type": "stream",
     "text": [
      "Read MPS format model from file model.mps\n",
      "Reading time = 0.01 seconds\n",
      "LP: 757 rows, 729 columns, 2160 nonzeros\n",
      "Discarded solution information\n",
      "Gurobi Optimizer version 11.0.2 build v11.0.2rc0 (win64 - Windows 10.0 (19045.2))\n",
      "\n",
      "CPU model: 11th Gen Intel(R) Core(TM) i7-1165G7 @ 2.80GHz, instruction set [SSE2|AVX|AVX2|AVX512]\n",
      "Thread count: 4 physical cores, 8 logical processors, using up to 8 threads\n",
      "\n",
      "Academic license 2527858 - for non-commercial use only - registered to mb___@ur.rochester.edu\n",
      "Optimize a model with 757 rows, 729 columns and 2160 nonzeros\n",
      "Model fingerprint: 0xcc557f7f\n",
      "Variable types: 0 continuous, 729 integer (0 binary)\n",
      "Coefficient statistics:\n",
      "  Matrix range     [1e+00, 1e+00]\n",
      "  Objective range  [7e-03, 1e-01]\n",
      "  Bounds range     [1e+00, 1e+00]\n",
      "  RHS range        [1e+00, 6e+00]\n",
      "Found heuristic solution: objective -0.0927000\n",
      "Presolve removed 27 rows and 0 columns\n",
      "Presolve time: 0.01s\n",
      "Presolved: 730 rows, 729 columns, 2160 nonzeros\n",
      "Variable types: 0 continuous, 729 integer (729 binary)\n",
      "Found heuristic solution: objective -0.5618500\n",
      "\n",
      "Root relaxation: objective -9.707000e-01, 228 iterations, 0.00 seconds (0.00 work units)\n",
      "\n",
      "    Nodes    |    Current Node    |     Objective Bounds      |     Work\n",
      " Expl Unexpl |  Obj  Depth IntInf | Incumbent    BestBd   Gap | It/Node Time\n",
      "\n",
      "*    0     0               0      -0.9707000   -0.97070  0.00%     -    0s\n",
      "\n",
      "Explored 1 nodes (228 simplex iterations) in 0.03 seconds (0.01 work units)\n",
      "Thread count was 8 (of 8 available processors)\n",
      "\n",
      "Solution count 3: -0.9707 -0.56185 -0.0927 \n",
      "\n",
      "Optimal solution found (tolerance 1.00e-04)\n",
      "Best objective -9.707000000000e-01, best bound -9.707000000000e-01, gap 0.0000%\n"
     ]
    }
   ],
   "source": [
    "m = gp.read(\"model.mps\", env=env)\n",
    "m.reset()\n",
    "m.optimize()"
   ]
  },
  {
   "cell_type": "markdown",
   "metadata": {},
   "source": [
    "I'm not sure this tells us much. Check `glpk_out.txt`, it has the full output of this solution. \n",
    "Notable slice:\n",
    "```\n",
    "730 rows, 729 columns, 2160 non-zeros\n",
    "      0: obj =  -4.657500000e-01 inf =   1.000e+01 (2)\n",
    "      5: obj =  -1.523000000e-01 inf =   0.000e+00 (0)\n",
    "*   224: obj =   6.790500000e-01 inf =   2.065e-14 (0) 1\n",
    "OPTIMAL LP SOLUTION FOUND\n",
    "Integer optimization begins...\n",
    "Long-step dual simplex will be used\n",
    "+   224: mip =     not found yet <=              +inf        (1; 0)\n",
    "+   224: >>>>>   6.790500000e-01 <=   6.790500000e-01   0.0% (1; 0)\n",
    "+   224: mip =   6.790500000e-01 <=     tree is empty   0.0% (0; 1)\n",
    "INTEGER OPTIMAL SOLUTION FOUND\n",
    "Time used:   0.0 secs\n",
    "Memory used: 1.9 Mb (1980226 bytes)\n",
    "STATES:\n",
    "[1 2 3]   [10 11 12]   [19 20 21]\n",
    "[4 5 6] , [13 14 15] , [22 23 24].\n",
    "[7 8 9]   [16 17 18]   [25 26 27]\n",
    "\n",
    "BUCKETS:\n",
    "Bucket 5: 1 2 3 4 5 6 7 8 9\n",
    "Bucket 11: 11 12 19 21\n",
    "Bucket 13: 10 13\n",
    "Bucket 14: 14 15\n",
    "Bucket 17: 16 17 18 25 26 27\n",
    "Bucket 23: 20 22 23 24\n",
    "```"
   ]
  },
  {
   "cell_type": "markdown",
   "metadata": {},
   "source": [
    "## Problem Setup\n",
    "I'm going to try and convert this outright to a Gurobi model."
   ]
  },
  {
   "cell_type": "code",
   "execution_count": 200,
   "metadata": {},
   "outputs": [
    {
     "name": "stdout",
     "output_type": "stream",
     "text": [
      "Set parameter PoolSearchMode to value 2\n"
     ]
    }
   ],
   "source": [
    "# establish model (must close)\n",
    "model = gp.Model(env=env)\n",
    "\n",
    "# multiple solutions\n",
    "model.Params.PoolSolutions = 10\n",
    "model.Params.PoolSearchMode = 2"
   ]
  },
  {
   "cell_type": "markdown",
   "metadata": {},
   "source": [
    "Generating the probability matrix."
   ]
  },
  {
   "cell_type": "code",
   "execution_count": 201,
   "metadata": {},
   "outputs": [],
   "source": [
    "def normpdf(x: float, mean: float, std: float) -> float:\n",
    "  var = float(std)**2\n",
    "  denom = (2*np.pi*var)**.5\n",
    "  num = np.exp(-(float(x)-float(mean))**2/(2*var))\n",
    "  return num/denom\n",
    "\n",
    "def gen_state_prob(num_traits: int, num_states: int):\n",
    "  mean = (num_states-1) / 2\n",
    "  std = mean / 1.25\n",
    "\n",
    "  state_prob = np.zeros(tuple([num_states] * num_traits), dtype=np.float64)\n",
    "  for inds in np.ndindex(state_prob.shape):\n",
    "    prob = 1\n",
    "    for ind in inds:\n",
    "      prob *= normpdf(ind, mean, std)\n",
    "    \n",
    "    state_prob[inds] = prob\n",
    "\n",
    "  state_prob = state_prob / np.sum(state_prob)\n",
    "\n",
    "  return state_prob.flatten()"
   ]
  },
  {
   "cell_type": "markdown",
   "metadata": {},
   "source": [
    "Generating the reward matrix."
   ]
  },
  {
   "cell_type": "code",
   "execution_count": 202,
   "metadata": {},
   "outputs": [],
   "source": [
    "def unnumerize(num_traits: int, num_states: int, action: int):\n",
    "  ufaction = []\n",
    "  while action > 0:\n",
    "    ufaction.insert(0, action % num_states)\n",
    "    action = action // num_states\n",
    "\n",
    "  while len(ufaction) < num_traits:\n",
    "    ufaction.insert(0, 0)\n",
    "\n",
    "  return ufaction\n",
    "\n",
    "def reward_fn(param: tuple[float, float], state, action):\n",
    "  \n",
    "  l1dist = 0\n",
    "  for s, a in zip(state, action):\n",
    "    l1dist += abs(s - a)\n",
    "\n",
    "  return param[0] - param[1] * l1dist\n",
    "\n",
    "def reward_matrix(num_traits: int, num_states: int, reward_param: tuple[float, float]):\n",
    "  total_states = num_states**num_traits\n",
    "  res = np.array([[0 for _ in range(total_states)] for _ in range(total_states)], dtype=np.float64)\n",
    "  for x in range(total_states):\n",
    "    for y in range(total_states):\n",
    "      s1 = unnumerize(num_traits, num_states, x)\n",
    "      s2 = unnumerize(num_traits, num_states, y)\n",
    "\n",
    "      res[x, y] = reward_fn(reward_param, s1, s2)\n",
    "\n",
    "  return res"
   ]
  },
  {
   "cell_type": "code",
   "execution_count": 203,
   "metadata": {},
   "outputs": [],
   "source": [
    "# parameters\n",
    "t = 3\n",
    "n_per_t = 3\n",
    "n = n_per_t**t\n",
    "k = 6\n",
    "reward_param = (1, 0.5)\n",
    "\n",
    "V = np.asarray([i for i in range(n)])\n",
    "\n",
    "prob = gen_state_prob(t, n_per_t)\n",
    "\n",
    "reward = reward_matrix(t, n_per_t, reward_param)"
   ]
  },
  {
   "cell_type": "code",
   "execution_count": 204,
   "metadata": {},
   "outputs": [],
   "source": [
    "# Create Hess Variables\n",
    "# GPL: var x{V, V} >= 0, <= 1, binary;\n",
    "x = model.addVars(V, V, ub=1, vtype=GRB.BINARY)"
   ]
  },
  {
   "cell_type": "code",
   "execution_count": 205,
   "metadata": {},
   "outputs": [],
   "source": [
    "# state objective\n",
    "# GPL: maximize EP: sum{i in V} PROB[i] * sum{j in V} x[i, j] * REWARD[i, j];\n",
    "# gp.quicksum( prob[i] * x[i][j] * reward[i][j] for i in V for j in V )\n",
    "objective = gp.quicksum( gp.quicksum( (prob[i] * x[i,j] * reward[i][j]) for j in V) for i in V )\n",
    "model.setObjective(objective, GRB.MAXIMIZE)"
   ]
  },
  {
   "cell_type": "code",
   "execution_count": 206,
   "metadata": {},
   "outputs": [],
   "source": [
    "# add constraints\n",
    "\n",
    "# /* there are exactly k buckets */\n",
    "# kBucketConstr: sum{j in V} x[j, j] = k;\n",
    "k_bucket = gp.quicksum( (x[j,j]) for j in V ) == k\n",
    "model.addConstr(k_bucket)\n",
    "\n",
    "# /* a state can only belong to one bucket */\n",
    "# uniqueBucketConstr{i in V}: sum{j in V} x[i, j] = 1;\n",
    "unique_bucket = (gp.quicksum( (x[i,j]) for j in V ) == 1 for i in V)\n",
    "model.addConstrs(unique_bucket)\n",
    "\n",
    "# /* a state cannot belong to a non-existant bucket */\n",
    "# nonexBucketConstr{i in V, j in V}: x[i, j] <= x[j, j];\n",
    "nonex_bucket = ( (x[i,j] <= x[j,j]) for i in V for j in V )\n",
    "model.addConstrs(nonex_bucket)\n",
    "\n",
    "model.update()"
   ]
  },
  {
   "cell_type": "code",
   "execution_count": 207,
   "metadata": {},
   "outputs": [
    {
     "name": "stdout",
     "output_type": "stream",
     "text": [
      "Gurobi Optimizer version 11.0.2 build v11.0.2rc0 (win64 - Windows 10.0 (19045.2))\n",
      "\n",
      "CPU model: 11th Gen Intel(R) Core(TM) i7-1165G7 @ 2.80GHz, instruction set [SSE2|AVX|AVX2|AVX512]\n",
      "Thread count: 4 physical cores, 8 logical processors, using up to 8 threads\n",
      "\n",
      "Academic license 2527858 - for non-commercial use only - registered to mb___@ur.rochester.edu\n",
      "Optimize a model with 757 rows, 729 columns and 2160 nonzeros\n",
      "Model fingerprint: 0x43a585c0\n",
      "Variable types: 0 continuous, 729 integer (729 binary)\n",
      "Coefficient statistics:\n",
      "  Matrix range     [1e+00, 1e+00]\n",
      "  Objective range  [7e-03, 1e-01]\n",
      "  Bounds range     [1e+00, 1e+00]\n",
      "  RHS range        [1e+00, 6e+00]\n",
      "Found heuristic solution: objective -0.0925824\n",
      "Presolve removed 27 rows and 0 columns\n",
      "Presolve time: 0.01s\n",
      "Presolved: 730 rows, 729 columns, 2160 nonzeros\n",
      "Variable types: 0 continuous, 729 integer (729 binary)\n",
      "Found heuristic solution: objective 0.3947496\n",
      "\n",
      "Root relaxation: objective 6.793317e-01, 88 iterations, 0.00 seconds (0.00 work units)\n",
      "\n",
      "    Nodes    |    Current Node    |     Objective Bounds      |     Work\n",
      " Expl Unexpl |  Obj  Depth IntInf | Incumbent    BestBd   Gap | It/Node Time\n",
      "\n",
      "*    0     0               0       0.6793317    0.67933  0.00%     -    0s\n",
      "\n",
      "Optimal solution found at node 0 - now completing solution pool...\n",
      "\n",
      "    Nodes    |    Current Node    |      Pool Obj. Bounds     |     Work\n",
      "             |                    |   Worst                   |\n",
      " Expl Unexpl |  Obj  Depth IntInf | Incumbent    BestBd   Gap | It/Node Time\n",
      "\n",
      "     0     0          -    0               -    0.67933      -     -    0s\n",
      "     0     0          -    0               -    0.67933      -     -    0s\n",
      "     0     2          -    0               -    0.67933      -     -    0s\n",
      "\n",
      "Explored 87 nodes (374 simplex iterations) in 0.04 seconds (0.01 work units)\n",
      "Thread count was 8 (of 8 available processors)\n",
      "\n",
      "Solution count 10: 0.679332 0.679332 0.679332 ... 0.679332\n",
      "No other solutions better than 0.679332\n",
      "\n",
      "Optimal solution found (tolerance 1.00e-04)\n",
      "Best objective 6.793317039129e-01, best bound 6.793317039129e-01, gap 0.0000%\n"
     ]
    }
   ],
   "source": [
    "# can we solve?\n",
    "model.optimize()"
   ]
  },
  {
   "cell_type": "markdown",
   "metadata": {},
   "source": [
    "### Solution Extraction\n",
    "This was a little easier than I thought, thanks to Quan's code."
   ]
  },
  {
   "cell_type": "code",
   "execution_count": 208,
   "metadata": {},
   "outputs": [
    {
     "name": "stdout",
     "output_type": "stream",
     "text": [
      "Bucket 5: 1 2 3 5 7 9 \n",
      "Bucket 13: 4 10 13 25 \n",
      "Bucket 14: 11 14 \n",
      "Bucket 15: 6 12 15 27 \n",
      "Bucket 17: 8 16 17 18 26 \n",
      "Bucket 23: 19 20 21 22 23 24 \n"
     ]
    }
   ],
   "source": [
    "centers = [j for j in V if x[j,j].getAttr(\"x\") == 1]\n",
    "\n",
    "for j in centers:\n",
    "    print(f\"Bucket {j+1}: \", end=\"\")\n",
    "    members = [i for i in V if x[i,j].getAttr(\"x\") == 1]\n",
    "    for i in members:\n",
    "        print(f\"{i+1} \", end=\"\")\n",
    "    print()"
   ]
  },
  {
   "cell_type": "markdown",
   "metadata": {},
   "source": [
    "```\n",
    "STATES:\n",
    "[1 2 3]   [10 11 12]   [19 20 21]\n",
    "[4 5 6] , [13 14 15] , [22 23 24].\n",
    "[7 8 9]   [16 17 18]   [25 26 27]\n",
    "\n",
    "BUCKETS:\n",
    "Bucket 5: 1 2 3 4 5 6 7 8 9\n",
    "Bucket 11: 11 12 19 21\n",
    "Bucket 13: 10 13\n",
    "Bucket 14: 14 15\n",
    "Bucket 17: 16 17 18 25 26 27\n",
    "Bucket 23: 20 22 23 24\n",
    "```\n",
    "\n",
    "GLPK Output again for comparison."
   ]
  },
  {
   "cell_type": "code",
   "execution_count": 209,
   "metadata": {},
   "outputs": [
    {
     "name": "stdout",
     "output_type": "stream",
     "text": [
      "Solution 0\n",
      "Bucket 5: 1 2 3 5 7 9 \n",
      "Bucket 13: 4 10 13 25 \n",
      "Bucket 14: 11 14 \n",
      "Bucket 15: 6 12 15 27 \n",
      "Bucket 17: 8 16 17 18 26 \n",
      "Bucket 23: 19 20 21 22 23 24 \n",
      "\n",
      "STATES:\n",
      "[1 2 3]   [10 11 12]   [19 20 21]\n",
      "[4 5 6] , [13 14 15] , [22 23 24].\n",
      "[7 8 9]   [16 17 18]   [25 26 27]\n",
      "\n",
      "Solution 1\n",
      "Bucket 5: 2 3 5 7 9 \n",
      "Bucket 13: 1 4 10 13 25 \n",
      "Bucket 14: 11 14 \n",
      "Bucket 15: 6 12 15 27 \n",
      "Bucket 17: 8 16 17 18 26 \n",
      "Bucket 23: 19 20 21 22 23 24 \n",
      "\n",
      "STATES:\n",
      "[1 2 3]   [10 11 12]   [19 20 21]\n",
      "[4 5 6] , [13 14 15] , [22 23 24].\n",
      "[7 8 9]   [16 17 18]   [25 26 27]\n",
      "\n",
      "Solution 2\n",
      "Bucket 5: 1 3 5 6 7 9 \n",
      "Bucket 11: 2 11 12 21 \n",
      "Bucket 13: 4 10 13 25 \n",
      "Bucket 14: 14 15 \n",
      "Bucket 17: 8 16 17 18 26 27 \n",
      "Bucket 23: 19 20 22 23 24 \n",
      "\n",
      "STATES:\n",
      "[1 2 3]   [10 11 12]   [19 20 21]\n",
      "[4 5 6] , [13 14 15] , [22 23 24].\n",
      "[7 8 9]   [16 17 18]   [25 26 27]\n",
      "\n",
      "Solution 3\n",
      "Bucket 5: 1 2 3 4 5 7 9 \n",
      "Bucket 13: 10 13 25 \n",
      "Bucket 14: 11 14 \n",
      "Bucket 15: 6 12 15 27 \n",
      "Bucket 17: 8 16 17 18 26 \n",
      "Bucket 23: 19 20 21 22 23 24 \n",
      "\n",
      "STATES:\n",
      "[1 2 3]   [10 11 12]   [19 20 21]\n",
      "[4 5 6] , [13 14 15] , [22 23 24].\n",
      "[7 8 9]   [16 17 18]   [25 26 27]\n",
      "\n",
      "Solution 4\n",
      "Bucket 5: 1 2 3 4 5 7 8 9 \n",
      "Bucket 13: 10 13 16 22 25 \n",
      "Bucket 14: 11 14 \n",
      "Bucket 15: 6 12 15 18 27 \n",
      "Bucket 17: 17 26 \n",
      "Bucket 23: 19 20 21 23 24 \n",
      "\n",
      "STATES:\n",
      "[1 2 3]   [10 11 12]   [19 20 21]\n",
      "[4 5 6] , [13 14 15] , [22 23 24].\n",
      "[7 8 9]   [16 17 18]   [25 26 27]\n",
      "\n",
      "Solution 5\n",
      "Bucket 11: 1 2 3 11 21 \n",
      "Bucket 13: 4 7 10 13 25 \n",
      "Bucket 14: 5 14 \n",
      "Bucket 15: 6 9 12 15 27 \n",
      "Bucket 17: 8 16 17 18 26 \n",
      "Bucket 23: 19 20 22 23 24 \n",
      "\n",
      "STATES:\n",
      "[1 2 3]   [10 11 12]   [19 20 21]\n",
      "[4 5 6] , [13 14 15] , [22 23 24].\n",
      "[7 8 9]   [16 17 18]   [25 26 27]\n",
      "\n",
      "Solution 6\n",
      "Bucket 5: 1 3 4 5 7 9 \n",
      "Bucket 11: 2 10 11 21 \n",
      "Bucket 14: 13 14 \n",
      "Bucket 15: 6 12 15 27 \n",
      "Bucket 17: 8 16 17 18 25 26 \n",
      "Bucket 23: 19 20 22 23 24 \n",
      "\n",
      "STATES:\n",
      "[1 2 3]   [10 11 12]   [19 20 21]\n",
      "[4 5 6] , [13 14 15] , [22 23 24].\n",
      "[7 8 9]   [16 17 18]   [25 26 27]\n",
      "\n",
      "Solution 7\n",
      "Bucket 5: 3 4 5 7 9 \n",
      "Bucket 11: 1 2 10 11 21 \n",
      "Bucket 14: 13 14 \n",
      "Bucket 15: 6 12 15 27 \n",
      "Bucket 17: 8 16 17 18 25 26 \n",
      "Bucket 23: 19 20 22 23 24 \n",
      "\n",
      "STATES:\n",
      "[1 2 3]   [10 11 12]   [19 20 21]\n",
      "[4 5 6] , [13 14 15] , [22 23 24].\n",
      "[7 8 9]   [16 17 18]   [25 26 27]\n",
      "\n",
      "Solution 8\n",
      "Bucket 5: 1 3 5 7 8 9 \n",
      "Bucket 11: 2 11 21 \n",
      "Bucket 13: 4 10 13 16 25 \n",
      "Bucket 14: 14 17 \n",
      "Bucket 15: 6 12 15 18 27 \n",
      "Bucket 23: 19 20 22 23 24 26 \n",
      "\n",
      "STATES:\n",
      "[1 2 3]   [10 11 12]   [19 20 21]\n",
      "[4 5 6] , [13 14 15] , [22 23 24].\n",
      "[7 8 9]   [16 17 18]   [25 26 27]\n",
      "\n",
      "Solution 9\n",
      "Bucket 5: 1 2 3 5 7 8 9 \n",
      "Bucket 11: 11 21 \n",
      "Bucket 13: 4 10 13 16 25 \n",
      "Bucket 14: 14 17 \n",
      "Bucket 15: 6 12 15 18 27 \n",
      "Bucket 23: 19 20 22 23 24 26 \n",
      "\n",
      "STATES:\n",
      "[1 2 3]   [10 11 12]   [19 20 21]\n",
      "[4 5 6] , [13 14 15] , [22 23 24].\n",
      "[7 8 9]   [16 17 18]   [25 26 27]\n",
      "\n"
     ]
    }
   ],
   "source": [
    "# n solutions\n",
    "n_solutions = model.getAttr(\"SolCount\")\n",
    "\n",
    "for n in range(0, n_solutions):\n",
    "    model.params.SolutionNumber = n\n",
    "    print(f\"Solution {n}\")\n",
    "    centers = [j for j in V if x[j,j].getAttr(\"Xn\") == 1]\n",
    "    for j in centers:\n",
    "        print(f\"Bucket {j+1}: \", end=\"\")\n",
    "        members = [i for i in V if x[i,j].getAttr(\"Xn\") == 1]\n",
    "        for i in members:\n",
    "            print(f\"{i+1} \", end=\"\")\n",
    "        print()\n",
    "    print()\n",
    "\n",
    "    print(\"STATES:\")\n",
    "    print(\"[1 2 3]   [10 11 12]   [19 20 21]\")\n",
    "    print(\"[4 5 6] , [13 14 15] , [22 23 24].\")\n",
    "    print(\"[7 8 9]   [16 17 18]   [25 26 27]\")\n",
    "    print()"
   ]
  },
  {
   "cell_type": "code",
   "execution_count": 210,
   "metadata": {},
   "outputs": [],
   "source": [
    "# closing these objects for best practice\n",
    "\n",
    "model.close()\n",
    "m.close()\n",
    "env.close()"
   ]
  }
 ],
 "metadata": {
  "kernelspec": {
   "display_name": "sig",
   "language": "python",
   "name": "python3"
  },
  "language_info": {
   "codemirror_mode": {
    "name": "ipython",
    "version": 3
   },
   "file_extension": ".py",
   "mimetype": "text/x-python",
   "name": "python",
   "nbconvert_exporter": "python",
   "pygments_lexer": "ipython3",
   "version": "3.12.4"
  }
 },
 "nbformat": 4,
 "nbformat_minor": 2
}
