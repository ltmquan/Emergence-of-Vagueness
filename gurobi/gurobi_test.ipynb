{
 "cells": [
  {
   "cell_type": "code",
   "execution_count": 1,
   "metadata": {},
   "outputs": [],
   "source": [
    "import gurobipy as gp\n",
    "from gurobipy import GRB\n",
    "import tomllib as tml\n",
    "import numpy as np"
   ]
  },
  {
   "cell_type": "markdown",
   "metadata": {},
   "source": [
    "Options looks like:\n",
    "```\n",
    "options = {\n",
    "    \"WLSACCESSID\": \"********-****-****-****-************\",\n",
    "    \"WLSSECRET\": \"********-****-****-****-************\",\n",
    "    \"LICENSEID\": _____,\n",
    "}\n",
    "```"
   ]
  },
  {
   "cell_type": "code",
   "execution_count": 2,
   "metadata": {},
   "outputs": [],
   "source": [
    "# get gurobi credentials\n",
    "options = tml.load(open(\"license.toml\", \"rb\"))"
   ]
  },
  {
   "cell_type": "code",
   "execution_count": 3,
   "metadata": {},
   "outputs": [
    {
     "name": "stdout",
     "output_type": "stream",
     "text": [
      "Set parameter WLSAccessID\n",
      "Set parameter WLSSecret\n",
      "Set parameter LicenseID to value 2527858\n",
      "Academic license 2527858 - for non-commercial use only - registered to mb___@ur.rochester.edu\n"
     ]
    }
   ],
   "source": [
    "# establish env (must close)\n",
    "env = gp.Env(params=options)"
   ]
  },
  {
   "cell_type": "markdown",
   "metadata": {},
   "source": [
    "## Test with MPS File\n",
    "I made a MPS file by solving LP.mod (written by Quan Luu) with GLPK for Windows."
   ]
  },
  {
   "cell_type": "code",
   "execution_count": 4,
   "metadata": {},
   "outputs": [
    {
     "name": "stdout",
     "output_type": "stream",
     "text": [
      "Read MPS format model from file model.mps\n",
      "Reading time = 0.00 seconds\n",
      "LP: 757 rows, 729 columns, 2160 nonzeros\n",
      "Discarded solution information\n",
      "Gurobi Optimizer version 11.0.2 build v11.0.2rc0 (win64 - Windows 11.0 (22631.2))\n",
      "\n",
      "CPU model: AMD Ryzen 5 2600X Six-Core Processor, instruction set [SSE2|AVX|AVX2]\n",
      "Thread count: 6 physical cores, 12 logical processors, using up to 12 threads\n",
      "\n",
      "Academic license 2527858 - for non-commercial use only - registered to mb___@ur.rochester.edu\n",
      "Optimize a model with 757 rows, 729 columns and 2160 nonzeros\n",
      "Model fingerprint: 0xcc557f7f\n",
      "Variable types: 0 continuous, 729 integer (0 binary)\n",
      "Coefficient statistics:\n",
      "  Matrix range     [1e+00, 1e+00]\n",
      "  Objective range  [7e-03, 1e-01]\n",
      "  Bounds range     [1e+00, 1e+00]\n",
      "  RHS range        [1e+00, 6e+00]\n",
      "Found heuristic solution: objective -0.0927000\n",
      "Presolve removed 27 rows and 0 columns\n",
      "Presolve time: 0.01s\n",
      "Presolved: 730 rows, 729 columns, 2160 nonzeros\n",
      "Variable types: 0 continuous, 729 integer (729 binary)\n",
      "Found heuristic solution: objective -0.5618500\n",
      "\n",
      "Root relaxation: objective -9.707000e-01, 228 iterations, 0.00 seconds (0.00 work units)\n",
      "\n",
      "    Nodes    |    Current Node    |     Objective Bounds      |     Work\n",
      " Expl Unexpl |  Obj  Depth IntInf | Incumbent    BestBd   Gap | It/Node Time\n",
      "\n",
      "*    0     0               0      -0.9707000   -0.97070  0.00%     -    0s\n",
      "\n",
      "Explored 1 nodes (228 simplex iterations) in 0.03 seconds (0.01 work units)\n",
      "Thread count was 12 (of 12 available processors)\n",
      "\n",
      "Solution count 3: -0.9707 -0.56185 -0.0927 \n",
      "\n",
      "Optimal solution found (tolerance 1.00e-04)\n",
      "Best objective -9.707000000000e-01, best bound -9.707000000000e-01, gap 0.0000%\n"
     ]
    }
   ],
   "source": [
    "m = gp.read(\"model.mps\", env=env)\n",
    "m.reset()\n",
    "m.optimize()"
   ]
  },
  {
   "cell_type": "markdown",
   "metadata": {},
   "source": [
    "I'm not sure this tells us much. Check `glpk_out.txt`, it has the full output of this solution. \n",
    "Notable slice:\n",
    "```\n",
    "730 rows, 729 columns, 2160 non-zeros\n",
    "      0: obj =  -4.657500000e-01 inf =   1.000e+01 (2)\n",
    "      5: obj =  -1.523000000e-01 inf =   0.000e+00 (0)\n",
    "*   224: obj =   6.790500000e-01 inf =   2.065e-14 (0) 1\n",
    "OPTIMAL LP SOLUTION FOUND\n",
    "Integer optimization begins...\n",
    "Long-step dual simplex will be used\n",
    "+   224: mip =     not found yet <=              +inf        (1; 0)\n",
    "+   224: >>>>>   6.790500000e-01 <=   6.790500000e-01   0.0% (1; 0)\n",
    "+   224: mip =   6.790500000e-01 <=     tree is empty   0.0% (0; 1)\n",
    "INTEGER OPTIMAL SOLUTION FOUND\n",
    "Time used:   0.0 secs\n",
    "Memory used: 1.9 Mb (1980226 bytes)\n",
    "STATES:\n",
    "[1 2 3]   [10 11 12]   [19 20 21]\n",
    "[4 5 6] , [13 14 15] , [22 23 24].\n",
    "[7 8 9]   [16 17 18]   [25 26 27]\n",
    "\n",
    "BUCKETS:\n",
    "Bucket 5: 1 2 3 4 5 6 7 8 9\n",
    "Bucket 11: 11 12 19 21\n",
    "Bucket 13: 10 13\n",
    "Bucket 14: 14 15\n",
    "Bucket 17: 16 17 18 25 26 27\n",
    "Bucket 23: 20 22 23 24\n",
    "```"
   ]
  },
  {
   "cell_type": "markdown",
   "metadata": {},
   "source": [
    "## Problem Setup\n",
    "I'm going to try and convert this outright to a Gurobi model."
   ]
  },
  {
   "cell_type": "code",
   "execution_count": 5,
   "metadata": {},
   "outputs": [],
   "source": [
    "# establish model (must close)\n",
    "model = gp.Model(env=env)"
   ]
  },
  {
   "cell_type": "code",
   "execution_count": 6,
   "metadata": {},
   "outputs": [],
   "source": [
    "# parameters\n",
    "n = 27\n",
    "k = 6\n",
    "V = np.asarray([i for i in range(n)])\n",
    "\n",
    "prob = np.asarray(\n",
    "       [0.0137, 0.0298, 0.0137, \n",
    "        0.0298, 0.0651, 0.0298, \n",
    "        0.0137, 0.0298, 0.0137, \n",
    "        0.0298, 0.0651, 0.0298,\n",
    "        0.0651, 0.1422, 0.0651,\n",
    "        0.0298, 0.0651, 0.0298,\n",
    "        0.0137, 0.0298, 0.0137,\n",
    "        0.0298, 0.0651, 0.0298,\n",
    "        0.0137, 0.0298, 0.0137]\n",
    "    )\n",
    "\n",
    "reward = np.asarray([\n",
    "    [ 1.0,   0.5,   0.0,   0.5,   0.0,  -0.5,   0.0,  -0.5,  -1.0,   0.5,   0.0, - 0.5,   0.0,  -0.5,  -1.0,  -0.5,  -1.0,  -1.5,   0.0,  -0.5,  -1.0,  -0.5,  -1.0,  -1.5,  -1.0,  -1.5,  -2.0],\n",
    "    [ 0.5,   1.0,   0.5,   0.0,   0.5,   0.0,  -0.5,   0.0,  -0.5,   0.0,   0.5,   0.0,  -0.5,   0.0,  -0.5,  -1.0,  -0.5,  -1.0,  -0.5,   0.0,  -0.5,  -1.0,  -0.5,  -1.0,  -1.5,  -1.0,  -1.5],\n",
    "    [ 0.0,   0.5,   1.0,  -0.5,   0.0,   0.5,  -1.0,  -0.5,   0.0,  -0.5,   0.0,   0.5,  -1.0,  -0.5,   0.0,  -1.5,  -1.0,  -0.5,  -1.0,  -0.5,   0.0,  -1.5,  -1.0,  -0.5,  -2.0,  -1.5,  -1.0],\n",
    "    [ 0.5,   0.0,  -0.5,   1.0,   0.5,   0.0,   0.5,   0.0,  -0.5,   0.0,  -0.5,  -1.0,   0.5,   0.0,  -0.5,   0.0,  -0.5,  -1.0,  -0.5,  -1.0,  -1.5,   0.0,  -0.5,  -1.0,  -0.5,  -1.0,  -1.5],\n",
    "    [ 0.0,   0.5,   0.0,   0.5,   1.0,   0.5,   0.0,   0.5,   0.0,  -0.5,   0.0,  -0.5,   0.0,   0.5,   0.0,  -0.5,   0.0,  -0.5,  -1.0,  -0.5,  -1.0,  -0.5,   0.0,  -0.5,  -1.0,  -0.5,  -1.0],\n",
    "    [-0.5,   0.0,   0.5,   0.0,   0.5,   1.0,  -0.5,   0.0,   0.5,  -1.0,  -0.5,   0.0,  -0.5,   0.0,   0.5,  -1.0,  -0.5,   0.0,  -1.5,  -1.0,  -0.5,  -1.0,  -0.5,   0.0,  -1.5,  -1.0,  -0.5],\n",
    "    [ 0.0,  -0.5,  -1.0,   0.5,   0.0,  -0.5,   1.0,   0.5,   0.0,  -0.5,  -1.0,  -1.5,   0.0,  -0.5,  -1.0,  0.5,    0.0,  -0.5,  -1.0,  -1.5,  -2.0,  -0.5,  -1.0,  -1.5,   0.0,  -0.5,  -1.0],\n",
    "    [-0.5,   0.0,  -0.5,   0.0,   0.5,   0.0,   0.5,   1.0,   0.5,  -1.0,  -0.5,  -1.0,  -0.5,   0.0,  -0.5,   0.0,   0.5,   0.0,  -1.5,  -1.0,  -1.5,  -1.0,  -0.5,  -1.0,  -0.5,   0.0,  -0.5],\n",
    "    [-1.0,  -0.5,   0.0,  -0.5,   0.0,   0.5,   0.0,   0.5,   1.0,  -1.5,  -1.0,  -0.5,  -1.0,  -0.5,   0.0,  -0.5,   0.0,   0.5,  -2.0,  -1.5,  -1.0,  -1.5,  -1.0,  -0.5,  -1.0,  -0.5,   0.0],\n",
    "    [ 0.5,   0.0,  -0.5,   0.0,  -0.5,  -1.0,  -0.5,  -1.0,  -1.5,   1.0,   0.5,   0.0,   0.5,   0.0,  -0.5,   0.0,  -0.5,  -1.0,   0.5,   0.0,  -0.5,   0.0,  -0.5,  -1.0,  -0.5,  -1.0,  -1.5],\n",
    "    [ 0.0,   0.5,   0.0,  -0.5,   0.0,  -0.5,  -1.0,  -0.5,  -1.0,   0.5,   1.0,   0.5,   0.0,   0.5,   0.0,  -0.5,   0.0,  -0.5,   0.0,   0.5,   0.0,  -0.5,   0.0,  -0.5,  -1.0,  -0.5,  -1.0],\n",
    "    [-0.5,   0.0,   0.5,  -1.0,  -0.5,   0.0,  -1.5,  -1.0,  -0.5,   0.0,   0.5,   1.0,  -0.5,   0.0,   0.5,  -1.0,  -0.5,   0.0,  -0.5,   0.0,   0.5,  -1.0,  -0.5,   0.0,  -1.5,  -1.0,  -0.5],\n",
    "    [ 0.0,  -0.5,  -1.0,   0.5,   0.0,  -0.5,   0.0,  -0.5,  -1.0,   0.5,   0.0,  -0.5,   1.0,   0.5,   0.0,   0.5,   0.0,  -0.5,   0.0,  -0.5,  -1.0,   0.5,   0.0,  -0.5,   0.0,  -0.5,  -1.0],\n",
    "    [-0.5,   0.0,  -0.5,   0.0,   0.5,   0.0,  -0.5,   0.0,  -0.5,   0.0,   0.5,   0.0,   0.5,   1.0,   0.5,   0.0,   0.5,   0.0,  -0.5,   0.0,  -0.5,   0.0,   0.5,   0.0,  -0.5,   0.0,  -0.5],\n",
    "    [-1.0,  -0.5,   0.0,  -0.5,   0.0,   0.5,  -1.0,  -0.5,   0.0,  -0.5,   0.0,   0.5,   0.0,   0.5,   1.0,  -0.5,   0.0,   0.5,  -1.0,  -0.5,   0.0,  -0.5,   0.0,   0.5,  -1.0,  -0.5,   0.0],\n",
    "    [-0.5,  -1.0,  -1.5,   0.0,  -0.5,  -1.0,   0.5,   0.0,  -0.5,   0.0,  -0.5,  -1.0,   0.5,   0.0,  -0.5,   1.0,   0.5,   0.0,  -0.5,  -1.0,  -1.5,   0.0,  -0.5,  -1.0,   0.5,   0.0,  -0.5],\n",
    "    [-1.0,  -0.5,  -1.0,  -0.5,   0.0,  -0.5,   0.0,   0.5,   0.0,  -0.5,   0.0,  -0.5,   0.0,   0.5,   0.0,   0.5,   1.0,   0.5,  -1.0,  -0.5,  -1.0,  -0.5,   0.0,  -0.5,   0.0,   0.5,   0.0],\n",
    "    [-1.5,  -1.0,  -0.5,  -1.0,  -0.5,   0.0,  -0.5,   0.0,   0.5,  -1.0,  -0.5,   0.0,  -0.5,   0.0,   0.5,   0.0,   0.5,   1.0,  -1.5,  -1.0,  -0.5,  -1.0,  -0.5,   0.0,  -0.5,   0.0,   0.5],\n",
    "    [ 0.0,  -0.5,  -1.0,  -0.5,  -1.0,  -1.5,  -1.0,  -1.5,  -2.0,   0.5,   0.0,  -0.5,   0.0,  -0.5,  -1.0,  -0.5,  -1.0,  -1.5,   1.0,   0.5,   0.0,   0.5,   0.0,  -0.5,   0.0,  -0.5,  -1.0],\n",
    "    [-0.5,   0.0,  -0.5,  -1.0,  -0.5,  -1.0,  -1.5,  -1.0,  -1.5,   0.0,   0.5,   0.0,  -0.5,   0.0,  -0.5,  -1.0,  -0.5,  -1.0,   0.5,   1.0,   0.5,   0.0,   0.5,   0.0,  -0.5,   0.0,  -0.5],\n",
    "    [-1.0,  -0.5,   0.0,  -1.5,  -1.0,  -0.5,  -2.0,  -1.5,  -1.0,  -0.5,   0.0,   0.5,  -1.0,  -0.5,   0.0,  -1.5,  -1.0,  -0.5,   0.0,   0.5,   1.0,  -0.5,   0.0,   0.5,  -1.0,  -0.5,   0.0],\n",
    "    [-0.5,  -1.0,  -1.5,   0.0,  -0.5,  -1.0,  -0.5,  -1.0,  -1.5,   0.0,  -0.5,  -1.0,   0.5,   0.0,  -0.5,   0.0,  -0.5,  -1.0,   0.5,   0.0,  -0.5,   1.0,   0.5,   0.0,   0.5,   0.0,  -0.5],\n",
    "    [-1.0,  -0.5,  -1.0,  -0.5,   0.0,  -0.5,  -1.0,  -0.5,  -1.0,  -0.5,   0.0,  -0.5,   0.0,   0.5,   0.0,  -0.5,   0.0,  -0.5,   0.0,   0.5,   0.0,   0.5,   1.0,   0.5,   0.0,   0.5,   0.0],\n",
    "    [-1.5,  -1.0,  -0.5,  -1.0,  -0.5,   0.0,  -1.5,  -1.0,  -0.5,  -1.0,  -0.5,   0.0,  -0.5,   0.0,   0.5,  -1.0,  -0.5,   0.0,  -0.5,   0.0,   0.5,   0.0,   0.5,   1.0,  -0.5,   0.0,   0.5],\n",
    "    [-1.0,  -1.5,  -2.0,  -0.5,  -1.0,  -1.5,   0.0,  -0.5,  -1.0,  -0.5,  -1.0,  -1.5,   0.0,  -0.5,  -1.0,   0.5,   0.0,  -0.5,   0.0,  -0.5,  -1.0,   0.5,   0.0,  -0.5,   1.0,   0.5,   0.0],\n",
    "    [-1.5,  -1.0,  -1.5,  -1.0,  -0.5,  -1.0,  -0.5,   0.0,  -0.5,  -1.0,  -0.5,  -1.0,  -0.5,   0.0,  -0.5,   0.0,   0.5,   0.0,  -0.5,   0.0,  -0.5,   0.0,   0.5,   0.0,   0.5,   1.0,   0.5],\n",
    "    [-2.0,  -1.5,  -1.0,  -1.5,  -1.0,  -0.5,  -1.0,  -0.5,   0.0,  -1.5,  -1.0,  -0.5,  -1.0,  -0.5,   0.0,  -0.5,   0.0,   0.5,  -1.0,  -0.5,   0.0,  -0.5,   0.0,   0.5,   0.0,   0.5,   1.0],\n",
    "])"
   ]
  },
  {
   "cell_type": "code",
   "execution_count": 7,
   "metadata": {},
   "outputs": [],
   "source": [
    "# Create Hess Variables\n",
    "# GPL: var x{V, V} >= 0, <= 1, binary;\n",
    "x = model.addVars(V, V, ub=1, vtype=GRB.BINARY)"
   ]
  },
  {
   "cell_type": "code",
   "execution_count": 8,
   "metadata": {},
   "outputs": [],
   "source": [
    "# state objective\n",
    "# GPL: maximize EP: sum{i in V} PROB[i] * sum{j in V} x[i, j] * REWARD[i, j];\n",
    "# gp.quicksum( prob[i] * x[i][j] * reward[i][j] for i in V for j in V )\n",
    "objective = gp.quicksum( gp.quicksum( (prob[i] * x[i,j] * reward[i][j]) for j in V) for i in V )\n",
    "model.setObjective(objective, GRB.MAXIMIZE)"
   ]
  },
  {
   "cell_type": "code",
   "execution_count": 9,
   "metadata": {},
   "outputs": [],
   "source": [
    "# add constraints\n",
    "\n",
    "# /* there are exactly k buckets */\n",
    "# kBucketConstr: sum{j in V} x[j, j] = k;\n",
    "k_bucket = gp.quicksum( (x[j,j]) for j in V ) == k\n",
    "model.addConstr(k_bucket)\n",
    "\n",
    "# /* a state can only belong to one bucket */\n",
    "# uniqueBucketConstr{i in V}: sum{j in V} x[i, j] = 1;\n",
    "unique_bucket = (gp.quicksum( (x[i,j]) for j in V ) == 1 for i in V)\n",
    "model.addConstrs(unique_bucket)\n",
    "\n",
    "# /* a state cannot belong to a non-existant bucket */\n",
    "# nonexBucketConstr{i in V, j in V}: x[i, j] <= x[j, j];\n",
    "nonex_bucket = ( (x[i,j] <= x[j,j]) for i in V for j in V )\n",
    "model.addConstrs(nonex_bucket)\n",
    "\n",
    "model.update()"
   ]
  },
  {
   "cell_type": "code",
   "execution_count": 10,
   "metadata": {},
   "outputs": [
    {
     "name": "stdout",
     "output_type": "stream",
     "text": [
      "Gurobi Optimizer version 11.0.2 build v11.0.2rc0 (win64 - Windows 11.0 (22631.2))\n",
      "\n",
      "CPU model: AMD Ryzen 5 2600X Six-Core Processor, instruction set [SSE2|AVX|AVX2]\n",
      "Thread count: 6 physical cores, 12 logical processors, using up to 12 threads\n",
      "\n",
      "Academic license 2527858 - for non-commercial use only - registered to mb___@ur.rochester.edu\n",
      "Optimize a model with 757 rows, 729 columns and 2160 nonzeros\n",
      "Model fingerprint: 0xbd42aa8b\n",
      "Variable types: 0 continuous, 729 integer (729 binary)\n",
      "Coefficient statistics:\n",
      "  Matrix range     [1e+00, 1e+00]\n",
      "  Objective range  [7e-03, 1e-01]\n",
      "  Bounds range     [1e+00, 1e+00]\n",
      "  RHS range        [1e+00, 6e+00]\n",
      "Found heuristic solution: objective -0.0927000\n",
      "Presolve removed 27 rows and 0 columns\n",
      "Presolve time: 0.01s\n",
      "Presolved: 730 rows, 729 columns, 2160 nonzeros\n",
      "Variable types: 0 continuous, 729 integer (729 binary)\n",
      "Found heuristic solution: objective 0.3946500\n",
      "\n",
      "Root relaxation: objective 6.790500e-01, 88 iterations, 0.00 seconds (0.00 work units)\n",
      "\n",
      "    Nodes    |    Current Node    |     Objective Bounds      |     Work\n",
      " Expl Unexpl |  Obj  Depth IntInf | Incumbent    BestBd   Gap | It/Node Time\n",
      "\n",
      "*    0     0               0       0.6790500    0.67905  0.00%     -    0s\n",
      "\n",
      "Explored 1 nodes (88 simplex iterations) in 0.03 seconds (0.01 work units)\n",
      "Thread count was 12 (of 12 available processors)\n",
      "\n",
      "Solution count 3: 0.67905 0.39465 -0.0927 \n",
      "No other solutions better than 0.67905\n",
      "\n",
      "Optimal solution found (tolerance 1.00e-04)\n",
      "Best objective 6.790500000000e-01, best bound 6.790500000000e-01, gap 0.0000%\n"
     ]
    }
   ],
   "source": [
    "# can we solve?\n",
    "model.optimize()"
   ]
  },
  {
   "cell_type": "markdown",
   "metadata": {},
   "source": [
    "### Solution Extraction\n",
    "This was a little easier than I thought, thanks to Quan's code."
   ]
  },
  {
   "cell_type": "code",
   "execution_count": 11,
   "metadata": {},
   "outputs": [
    {
     "name": "stdout",
     "output_type": "stream",
     "text": [
      "Bucket 5: 1 2 3 5 7 9 \n",
      "Bucket 13: 4 10 13 25 \n",
      "Bucket 14: 11 14 \n",
      "Bucket 15: 6 12 15 27 \n",
      "Bucket 17: 8 16 17 18 26 \n",
      "Bucket 23: 19 20 21 22 23 24 \n"
     ]
    }
   ],
   "source": [
    "centers = [j for j in V if x[j,j].getAttr(\"x\") == 1]\n",
    "\n",
    "for j in centers:\n",
    "    print(f\"Bucket {j+1}: \", end=\"\")\n",
    "    members = [i for i in V if x[i,j].getAttr(\"x\") == 1]\n",
    "    for i in members:\n",
    "        print(f\"{i+1} \", end=\"\")\n",
    "    print()"
   ]
  },
  {
   "cell_type": "markdown",
   "metadata": {},
   "source": [
    "```\n",
    "STATES:\n",
    "[1 2 3]   [10 11 12]   [19 20 21]\n",
    "[4 5 6] , [13 14 15] , [22 23 24].\n",
    "[7 8 9]   [16 17 18]   [25 26 27]\n",
    "\n",
    "BUCKETS:\n",
    "Bucket 5: 1 2 3 4 5 6 7 8 9\n",
    "Bucket 11: 11 12 19 21\n",
    "Bucket 13: 10 13\n",
    "Bucket 14: 14 15\n",
    "Bucket 17: 16 17 18 25 26 27\n",
    "Bucket 23: 20 22 23 24\n",
    "```\n",
    "\n",
    "GLPK Output again for comparison."
   ]
  },
  {
   "cell_type": "code",
   "execution_count": 12,
   "metadata": {},
   "outputs": [],
   "source": [
    "# closing these objects for best practice\n",
    "\n",
    "model.close()\n",
    "m.close()\n",
    "env.close()"
   ]
  }
 ],
 "metadata": {
  "kernelspec": {
   "display_name": "sig",
   "language": "python",
   "name": "python3"
  },
  "language_info": {
   "codemirror_mode": {
    "name": "ipython",
    "version": 3
   },
   "file_extension": ".py",
   "mimetype": "text/x-python",
   "name": "python",
   "nbconvert_exporter": "python",
   "pygments_lexer": "ipython3",
   "version": "3.11.9"
  }
 },
 "nbformat": 4,
 "nbformat_minor": 2
}
