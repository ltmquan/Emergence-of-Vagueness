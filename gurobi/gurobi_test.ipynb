{
 "cells": [
  {
   "cell_type": "code",
   "execution_count": 1,
   "metadata": {},
   "outputs": [],
   "source": [
    "import gurobipy as gp\n",
    "from gurobipy import GRB\n",
    "import tomllib as tml\n",
    "import numpy as np"
   ]
  },
  {
   "cell_type": "markdown",
   "metadata": {},
   "source": [
    "Options looks like:\n",
    "```\n",
    "options = {\n",
    "    \"WLSACCESSID\": \"203dec48-e3f8-46ac-0184-92d7d6ded944\",\n",
    "    \"WLSSECRET\": \"a080cce8-4e01-4e36-955e-61592c5630db\",\n",
    "    \"LICENSEID\": 12127,\n",
    "}\n",
    "```"
   ]
  },
  {
   "cell_type": "code",
   "execution_count": 2,
   "metadata": {},
   "outputs": [],
   "source": [
    "# get gurobi credentials\n",
    "options = tml.load(open(\"license.toml\", \"rb\"))"
   ]
  },
  {
   "cell_type": "markdown",
   "metadata": {},
   "source": [
    "## Test with MPS File\n",
    "I made a MPS file by solving LP.mod (written by Quan Luu) with GLPK for Windows."
   ]
  },
  {
   "cell_type": "code",
   "execution_count": 3,
   "metadata": {},
   "outputs": [
    {
     "name": "stdout",
     "output_type": "stream",
     "text": [
      "Restricted license - for non-production use only - expires 2025-11-24\n",
      "Read MPS format model from file model.mps\n",
      "Reading time = 0.00 seconds\n",
      "LP: 757 rows, 729 columns, 2160 nonzeros\n",
      "Discarded solution information\n",
      "Gurobi Optimizer version 11.0.2 build v11.0.2rc0 (win64 - Windows 11.0 (22631.2))\n",
      "\n",
      "CPU model: AMD Ryzen 5 2600X Six-Core Processor, instruction set [SSE2|AVX|AVX2]\n",
      "Thread count: 6 physical cores, 12 logical processors, using up to 12 threads\n",
      "\n",
      "Optimize a model with 757 rows, 729 columns and 2160 nonzeros\n",
      "Model fingerprint: 0xcc557f7f\n",
      "Variable types: 0 continuous, 729 integer (0 binary)\n",
      "Coefficient statistics:\n",
      "  Matrix range     [1e+00, 1e+00]\n",
      "  Objective range  [7e-03, 1e-01]\n",
      "  Bounds range     [1e+00, 1e+00]\n",
      "  RHS range        [1e+00, 6e+00]\n",
      "Found heuristic solution: objective -0.0927000\n",
      "Presolve removed 27 rows and 0 columns\n",
      "Presolve time: 0.01s\n",
      "Presolved: 730 rows, 729 columns, 2160 nonzeros\n",
      "Variable types: 0 continuous, 729 integer (729 binary)\n",
      "Found heuristic solution: objective -0.5618500\n",
      "\n",
      "Root relaxation: objective -9.707000e-01, 228 iterations, 0.00 seconds (0.00 work units)\n",
      "\n",
      "    Nodes    |    Current Node    |     Objective Bounds      |     Work\n",
      " Expl Unexpl |  Obj  Depth IntInf | Incumbent    BestBd   Gap | It/Node Time\n",
      "\n",
      "*    0     0               0      -0.9707000   -0.97070  0.00%     -    0s\n",
      "\n",
      "Explored 1 nodes (228 simplex iterations) in 0.03 seconds (0.01 work units)\n",
      "Thread count was 12 (of 12 available processors)\n",
      "\n",
      "Solution count 3: -0.9707 -0.56185 -0.0927 \n",
      "\n",
      "Optimal solution found (tolerance 1.00e-04)\n",
      "Best objective -9.707000000000e-01, best bound -9.707000000000e-01, gap 0.0000%\n"
     ]
    }
   ],
   "source": [
    "m = gp.read(\"model.mps\")\n",
    "m.reset()\n",
    "m.optimize()"
   ]
  },
  {
   "cell_type": "markdown",
   "metadata": {},
   "source": [
    "## Problem Setup\n",
    "I'm going to try and convert this outright to a Gurobi model."
   ]
  },
  {
   "cell_type": "code",
   "execution_count": 4,
   "metadata": {},
   "outputs": [
    {
     "name": "stdout",
     "output_type": "stream",
     "text": [
      "Set parameter WLSAccessID\n",
      "Set parameter WLSSecret\n",
      "Set parameter LicenseID to value 2527858\n",
      "Academic license 2527858 - for non-commercial use only - registered to mb___@ur.rochester.edu\n"
     ]
    }
   ],
   "source": [
    "# establish env (must close)\n",
    "env = gp.Env(params=options)\n",
    "\n",
    "# establish model (must close)\n",
    "model = gp.Model(env=env)"
   ]
  },
  {
   "cell_type": "code",
   "execution_count": 5,
   "metadata": {},
   "outputs": [],
   "source": [
    "# parameters\n",
    "n = 27\n",
    "k = 6\n",
    "V = {i for i in range(n)}\n",
    "\n",
    "prob = np.asarray(\n",
    "       [0.0137, 0.0298, 0.0137, \n",
    "        0.0298, 0.0651, 0.0298, \n",
    "        0.0137, 0.0298, 0.0137, \n",
    "        0.0298, 0.0651, 0.0298,\n",
    "        0.0651, 0.1422, 0.0651,\n",
    "        0.0298, 0.0651, 0.0298,\n",
    "        0.0137, 0.0298, 0.0137,\n",
    "        0.0298, 0.0651, 0.0298,\n",
    "        0.0137, 0.0298, 0.0137]\n",
    "    )\n",
    "\n",
    "reward = np.asarray([\n",
    "    [ 1.0,   0.5,   0.0,   0.5,   0.0,  -0.5,   0.0,  -0.5,  -1.0,   0.5,   0.0, - 0.5,   0.0,  -0.5,  -1.0,  -0.5,  -1.0,  -1.5,   0.0,  -0.5,  -1.0,  -0.5,  -1.0,  -1.5,  -1.0,  -1.5,  -2.0],\n",
    "    [ 0.5,   1.0,   0.5,   0.0,   0.5,   0.0,  -0.5,   0.0,  -0.5,   0.0,   0.5,   0.0,  -0.5,   0.0,  -0.5,  -1.0,  -0.5,  -1.0,  -0.5,   0.0,  -0.5,  -1.0,  -0.5,  -1.0,  -1.5,  -1.0,  -1.5],\n",
    "    [ 0.0,   0.5,   1.0,  -0.5,   0.0,   0.5,  -1.0,  -0.5,   0.0,  -0.5,   0.0,   0.5,  -1.0,  -0.5,   0.0,  -1.5,  -1.0,  -0.5,  -1.0,  -0.5,   0.0,  -1.5,  -1.0,  -0.5,  -2.0,  -1.5,  -1.0],\n",
    "    [ 0.5,   0.0,  -0.5,   1.0,   0.5,   0.0,   0.5,   0.0,  -0.5,   0.0,  -0.5,  -1.0,   0.5,   0.0,  -0.5,   0.0,  -0.5,  -1.0,  -0.5,  -1.0,  -1.5,   0.0,  -0.5,  -1.0,  -0.5,  -1.0,  -1.5],\n",
    "    [ 0.0,   0.5,   0.0,   0.5,   1.0,   0.5,   0.0,   0.5,   0.0,  -0.5,   0.0,  -0.5,   0.0,   0.5,   0.0,  -0.5,   0.0,  -0.5,  -1.0,  -0.5,  -1.0,  -0.5,   0.0,  -0.5,  -1.0,  -0.5,  -1.0],\n",
    "    [-0.5,   0.0,   0.5,   0.0,   0.5,   1.0,  -0.5,   0.0,   0.5,  -1.0,  -0.5,   0.0,  -0.5,   0.0,   0.5,  -1.0,  -0.5,   0.0,  -1.5,  -1.0,  -0.5,  -1.0,  -0.5,   0.0,  -1.5,  -1.0,  -0.5],\n",
    "    [ 0.0,  -0.5,  -1.0,   0.5,   0.0,  -0.5,   1.0,   0.5,   0.0,  -0.5,  -1.0,  -1.5,   0.0,  -0.5,  -1.0,  0.5,    0.0,  -0.5,  -1.0,  -1.5,  -2.0,  -0.5,  -1.0,  -1.5,   0.0,  -0.5,  -1.0],\n",
    "    [-0.5,   0.0,  -0.5,   0.0,   0.5,   0.0,   0.5,   1.0,   0.5,  -1.0,  -0.5,  -1.0,  -0.5,   0.0,  -0.5,   0.0,   0.5,   0.0,  -1.5,  -1.0,  -1.5,  -1.0,  -0.5,  -1.0,  -0.5,   0.0,  -0.5],\n",
    "    [-1.0,  -0.5,   0.0,  -0.5,   0.0,   0.5,   0.0,   0.5,   1.0,  -1.5,  -1.0,  -0.5,  -1.0,  -0.5,   0.0,  -0.5,   0.0,   0.5,  -2.0,  -1.5,  -1.0,  -1.5,  -1.0,  -0.5,  -1.0,  -0.5,   0.0],\n",
    "    [ 0.5,   0.0,  -0.5,   0.0,  -0.5,  -1.0,  -0.5,  -1.0,  -1.5,   1.0,   0.5,   0.0,   0.5,   0.0,  -0.5,   0.0,  -0.5,  -1.0,   0.5,   0.0,  -0.5,   0.0,  -0.5,  -1.0,  -0.5,  -1.0,  -1.5],\n",
    "    [ 0.0,   0.5,   0.0,  -0.5,   0.0,  -0.5,  -1.0,  -0.5,  -1.0,   0.5,   1.0,   0.5,   0.0,   0.5,   0.0,  -0.5,   0.0,  -0.5,   0.0,   0.5,   0.0,  -0.5,   0.0,  -0.5,  -1.0,  -0.5,  -1.0],\n",
    "    [-0.5,   0.0,   0.5,  -1.0,  -0.5,   0.0,  -1.5,  -1.0,  -0.5,   0.0,   0.5,   1.0,  -0.5,   0.0,   0.5,  -1.0,  -0.5,   0.0,  -0.5,   0.0,   0.5,  -1.0,  -0.5,   0.0,  -1.5,  -1.0,  -0.5],\n",
    "    [ 0.0,  -0.5,  -1.0,   0.5,   0.0,  -0.5,   0.0,  -0.5,  -1.0,   0.5,   0.0,  -0.5,   1.0,   0.5,   0.0,   0.5,   0.0,  -0.5,   0.0,  -0.5,  -1.0,   0.5,   0.0,  -0.5,   0.0,  -0.5,  -1.0],\n",
    "    [-0.5,   0.0,  -0.5,   0.0,   0.5,   0.0,  -0.5,   0.0,  -0.5,   0.0,   0.5,   0.0,   0.5,   1.0,   0.5,   0.0,   0.5,   0.0,  -0.5,   0.0,  -0.5,   0.0,   0.5,   0.0,  -0.5,   0.0,  -0.5],\n",
    "    [-1.0,  -0.5,   0.0,  -0.5,   0.0,   0.5,  -1.0,  -0.5,   0.0,  -0.5,   0.0,   0.5,   0.0,   0.5,   1.0,  -0.5,   0.0,   0.5,  -1.0,  -0.5,   0.0,  -0.5,   0.0,   0.5,  -1.0,  -0.5,   0.0],\n",
    "    [-0.5,  -1.0,  -1.5,   0.0,  -0.5,  -1.0,   0.5,   0.0,  -0.5,   0.0,  -0.5,  -1.0,   0.5,   0.0,  -0.5,   1.0,   0.5,   0.0,  -0.5,  -1.0,  -1.5,   0.0,  -0.5,  -1.0,   0.5,   0.0,  -0.5],\n",
    "    [-1.0,  -0.5,  -1.0,  -0.5,   0.0,  -0.5,   0.0,   0.5,   0.0,  -0.5,   0.0,  -0.5,   0.0,   0.5,   0.0,   0.5,   1.0,   0.5,  -1.0,  -0.5,  -1.0,  -0.5,   0.0,  -0.5,   0.0,   0.5,   0.0],\n",
    "    [-1.5,  -1.0,  -0.5,  -1.0,  -0.5,   0.0,  -0.5,   0.0,   0.5,  -1.0,  -0.5,   0.0,  -0.5,   0.0,   0.5,   0.0,   0.5,   1.0,  -1.5,  -1.0,  -0.5,  -1.0,  -0.5,   0.0,  -0.5,   0.0,   0.5],\n",
    "    [ 0.0,  -0.5,  -1.0,  -0.5,  -1.0,  -1.5,  -1.0,  -1.5,  -2.0,   0.5,   0.0,  -0.5,   0.0,  -0.5,  -1.0,  -0.5,  -1.0,  -1.5,   1.0,   0.5,   0.0,   0.5,   0.0,  -0.5,   0.0,  -0.5,  -1.0],\n",
    "    [-0.5,   0.0,  -0.5,  -1.0,  -0.5,  -1.0,  -1.5,  -1.0,  -1.5,   0.0,   0.5,   0.0,  -0.5,   0.0,  -0.5,  -1.0,  -0.5,  -1.0,   0.5,   1.0,   0.5,   0.0,   0.5,   0.0,  -0.5,   0.0,  -0.5],\n",
    "    [-1.0,  -0.5,   0.0,  -1.5,  -1.0,  -0.5,  -2.0,  -1.5,  -1.0,  -0.5,   0.0,   0.5,  -1.0,  -0.5,   0.0,  -1.5,  -1.0,  -0.5,   0.0,   0.5,   1.0,  -0.5,   0.0,   0.5,  -1.0,  -0.5,   0.0],\n",
    "    [-0.5,  -1.0,  -1.5,   0.0,  -0.5,  -1.0,  -0.5,  -1.0,  -1.5,   0.0,  -0.5,  -1.0,   0.5,   0.0,  -0.5,   0.0,  -0.5,  -1.0,   0.5,   0.0,  -0.5,   1.0,   0.5,   0.0,   0.5,   0.0,  -0.5],\n",
    "    [-1.0,  -0.5,  -1.0,  -0.5,   0.0,  -0.5,  -1.0,  -0.5,  -1.0,  -0.5,   0.0,  -0.5,   0.0,   0.5,   0.0,  -0.5,   0.0,  -0.5,   0.0,   0.5,   0.0,   0.5,   1.0,   0.5,   0.0,   0.5,   0.0],\n",
    "    [-1.5,  -1.0,  -0.5,  -1.0,  -0.5,   0.0,  -1.5,  -1.0,  -0.5,  -1.0,  -0.5,   0.0,  -0.5,   0.0,   0.5,  -1.0,  -0.5,   0.0,  -0.5,   0.0,   0.5,   0.0,   0.5,   1.0,  -0.5,   0.0,   0.5],\n",
    "    [-1.0,  -1.5,  -2.0,  -0.5,  -1.0,  -1.5,   0.0,  -0.5,  -1.0,  -0.5,  -1.0,  -1.5,   0.0,  -0.5,  -1.0,   0.5,   0.0,  -0.5,   0.0,  -0.5,  -1.0,   0.5,   0.0,  -0.5,   1.0,   0.5,   0.0],\n",
    "    [-1.5,  -1.0,  -1.5,  -1.0,  -0.5,  -1.0,  -0.5,   0.0,  -0.5,  -1.0,  -0.5,  -1.0,  -0.5,   0.0,  -0.5,   0.0,   0.5,   0.0,  -0.5,   0.0,  -0.5,   0.0,   0.5,   0.0,   0.5,   1.0,   0.5],\n",
    "    [-2.0,  -1.5,  -1.0,  -1.5,  -1.0,  -0.5,  -1.0,  -0.5,   0.0,  -1.5,  -1.0,  -0.5,  -1.0,  -0.5,   0.0,  -0.5,   0.0,   0.5,  -1.0,  -0.5,   0.0,  -0.5,   0.0,   0.5,   0.0,   0.5,   1.0],\n",
    "])"
   ]
  },
  {
   "cell_type": "code",
   "execution_count": 6,
   "metadata": {},
   "outputs": [],
   "source": [
    "# Create Hess Variables\n",
    "# GPL: var x{V, V} >= 0, <= 1, binary;\n",
    "x = model.addVars(V, V, ub=1, vtype=GRB.BINARY)"
   ]
  },
  {
   "cell_type": "code",
   "execution_count": 7,
   "metadata": {},
   "outputs": [],
   "source": [
    "# state objective\n",
    "# GPL: maximize EP: sum{i in V} PROB[i] * sum{j in V} x[i, j] * REWARD[i, j];\n",
    "# gp.quicksum( prob[i] * x[i][j] * reward[i][j] for i in V for j in V )\n",
    "objective = gp.quicksum( gp.quicksum( (prob[i] * x[i,j] * reward[i][j]) for j in V) for i in V )\n",
    "model.setObjective(objective, GRB.MAXIMIZE)"
   ]
  },
  {
   "cell_type": "code",
   "execution_count": 8,
   "metadata": {},
   "outputs": [],
   "source": [
    "# add constraints\n",
    "\n",
    "# /* there are exactly k buckets */\n",
    "# kBucketConstr: sum{j in V} x[j, j] = k;\n",
    "k_bucket = gp.quicksum( (x[j,j]) for j in V ) == k\n",
    "model.addConstr(k_bucket)\n",
    "\n",
    "# /* a state can only belong to one bucket */\n",
    "# uniqueBucketConstr{i in V}: sum{j in V} x[i, j] = 1;\n",
    "unique_bucket = (gp.quicksum( (x[i,j]) for j in V ) == 1 for i in V)\n",
    "model.addConstrs(unique_bucket)\n",
    "\n",
    "# /* a state cannot belong to a non-existant bucket */\n",
    "# nonexBucketConstr{i in V, j in V}: x[i, j] <= x[j, j];\n",
    "nonex_bucket = ( (x[i,j] <= x[j,j]) for i in V for j in V )\n",
    "model.addConstrs(nonex_bucket)\n",
    "\n",
    "model.update()"
   ]
  },
  {
   "cell_type": "code",
   "execution_count": 9,
   "metadata": {},
   "outputs": [
    {
     "name": "stdout",
     "output_type": "stream",
     "text": [
      "Gurobi Optimizer version 11.0.2 build v11.0.2rc0 (win64 - Windows 11.0 (22631.2))\n",
      "\n",
      "CPU model: AMD Ryzen 5 2600X Six-Core Processor, instruction set [SSE2|AVX|AVX2]\n",
      "Thread count: 6 physical cores, 12 logical processors, using up to 12 threads\n",
      "\n",
      "Academic license 2527858 - for non-commercial use only - registered to mb___@ur.rochester.edu\n",
      "Optimize a model with 757 rows, 729 columns and 2160 nonzeros\n",
      "Model fingerprint: 0xbd42aa8b\n",
      "Variable types: 0 continuous, 729 integer (729 binary)\n",
      "Coefficient statistics:\n",
      "  Matrix range     [1e+00, 1e+00]\n",
      "  Objective range  [7e-03, 1e-01]\n",
      "  Bounds range     [1e+00, 1e+00]\n",
      "  RHS range        [1e+00, 6e+00]\n",
      "Found heuristic solution: objective -0.0927000\n",
      "Presolve removed 27 rows and 0 columns\n",
      "Presolve time: 0.01s\n",
      "Presolved: 730 rows, 729 columns, 2160 nonzeros\n",
      "Variable types: 0 continuous, 729 integer (729 binary)\n",
      "Found heuristic solution: objective 0.3946500\n",
      "\n",
      "Root relaxation: objective 6.790500e-01, 88 iterations, 0.00 seconds (0.00 work units)\n",
      "\n",
      "    Nodes    |    Current Node    |     Objective Bounds      |     Work\n",
      " Expl Unexpl |  Obj  Depth IntInf | Incumbent    BestBd   Gap | It/Node Time\n",
      "\n",
      "*    0     0               0       0.6790500    0.67905  0.00%     -    0s\n",
      "\n",
      "Explored 1 nodes (88 simplex iterations) in 0.03 seconds (0.01 work units)\n",
      "Thread count was 12 (of 12 available processors)\n",
      "\n",
      "Solution count 3: 0.67905 0.39465 -0.0927 \n",
      "No other solutions better than 0.67905\n",
      "\n",
      "Optimal solution found (tolerance 1.00e-04)\n",
      "Best objective 6.790500000000e-01, best bound 6.790500000000e-01, gap 0.0000%\n"
     ]
    }
   ],
   "source": [
    "# can we solve?\n",
    "model.optimize()"
   ]
  }
 ],
 "metadata": {
  "language_info": {
   "name": "python"
  }
 },
 "nbformat": 4,
 "nbformat_minor": 2
}
